{
 "cells": [
  {
   "cell_type": "code",
   "execution_count": 2,
   "metadata": {
    "collapsed": true
   },
   "outputs": [],
   "source": [
    "import pandas as pd\n",
    "from sklearn.model_selection import train_test_split\n",
    "from sklearn.metrics import roc_auc_score"
   ]
  },
  {
   "cell_type": "code",
   "execution_count": 3,
   "metadata": {},
   "outputs": [],
   "source": [
    "train_df_original = pd.read_csv('TRAIN_FINAL.csv')\n",
    "test_df = pd.read_csv('Test_v1.csv')"
   ]
  },
  {
   "cell_type": "code",
   "execution_count": 5,
   "metadata": {},
   "outputs": [],
   "source": [
    "positive_dataset = train_df[train_df_original['TARGET']==0]"
   ]
  },
  {
   "cell_type": "code",
   "execution_count": 7,
   "metadata": {
    "collapsed": true
   },
   "outputs": [],
   "source": [
    "negative_dataset = train_df[train_df_original['TARGET']==1]"
   ]
  },
  {
   "cell_type": "code",
   "execution_count": 13,
   "metadata": {
    "collapsed": true
   },
   "outputs": [],
   "source": [
    "sample_positive = positive_dataset.sample(n=1763)"
   ]
  },
  {
   "cell_type": "code",
   "execution_count": 19,
   "metadata": {
    "collapsed": true
   },
   "outputs": [],
   "source": [
    "train_df = pd.concat([sample_positive,negative_dataset])"
   ]
  },
  {
   "cell_type": "code",
   "execution_count": 20,
   "metadata": {},
   "outputs": [
    {
     "name": "stdout",
     "output_type": "stream",
     "text": [
      "<class 'pandas.core.frame.DataFrame'>\n",
      "Int64Index: 3526 entries, 7755 to 45606\n",
      "Columns: 370 entries, col_0 to TARGET\n",
      "dtypes: float64(111), int64(259)\n",
      "memory usage: 10.0 MB\n"
     ]
    }
   ],
   "source": [
    "train_df.info()"
   ]
  },
  {
   "cell_type": "code",
   "execution_count": 21,
   "metadata": {},
   "outputs": [],
   "source": [
    "train_df = train_df.sample(frac = 1)"
   ]
  },
  {
   "cell_type": "code",
   "execution_count": 23,
   "metadata": {
    "collapsed": true
   },
   "outputs": [],
   "source": [
    "X = train_df.drop(['TARGET'],axis=1)\n",
    "\n",
    "y = train_df['TARGET']\n",
    "\n",
    "X_train, X_test, y_train, y_test = train_test_split( X, y, test_size=0.33, random_state=42,stratify = y)"
   ]
  },
  {
   "cell_type": "code",
   "execution_count": 24,
   "metadata": {},
   "outputs": [
    {
     "name": "stdout",
     "output_type": "stream",
     "text": [
      "[100]\tvalid_0's auc: 0.834008\n",
      "[200]\tvalid_0's auc: 0.831583\n",
      "[300]\tvalid_0's auc: 0.82881\n",
      "[400]\tvalid_0's auc: 0.82699\n",
      "[500]\tvalid_0's auc: 0.824193\n",
      "[600]\tvalid_0's auc: 0.824065\n",
      "[700]\tvalid_0's auc: 0.821616\n",
      "[800]\tvalid_0's auc: 0.819973\n",
      "[900]\tvalid_0's auc: 0.817425\n",
      "[1000]\tvalid_0's auc: 0.815539\n",
      "[1100]\tvalid_0's auc: 0.813912\n",
      "[1200]\tvalid_0's auc: 0.811152\n",
      "[1300]\tvalid_0's auc: 0.809844\n",
      "[1400]\tvalid_0's auc: 0.80812\n",
      "[1500]\tvalid_0's auc: 0.807051\n",
      "[1600]\tvalid_0's auc: 0.805783\n",
      "[1700]\tvalid_0's auc: 0.804112\n",
      "[1800]\tvalid_0's auc: 0.802726\n",
      "[1900]\tvalid_0's auc: 0.800518\n",
      "[2000]\tvalid_0's auc: 0.799803\n"
     ]
    }
   ],
   "source": [
    "import lightgbm as lgb \n",
    "\n",
    "lgb_params = {\"objective\" : \"binary\", \"metric\" : ['auc'],\n",
    "              \"num_leaves\" : 8, \"learning_rate\" : 0.05, \n",
    "              \"is_unbalance\": True,\n",
    "              \"bagging_fraction\" : 0.5, \"feature_fraction\" : 0.8, \"bagging_frequency\" : 9,\n",
    "               }\n",
    "    \n",
    "lgb_train = lgb.Dataset(X_train, label=y_train)\n",
    "lgb_val = lgb.Dataset(X_test, label=y_test)\n",
    "model = lgb.train(lgb_params, lgb_train, 2000, valid_sets=[lgb_val], verbose_eval=100)"
   ]
  },
  {
   "cell_type": "code",
   "execution_count": 25,
   "metadata": {
    "collapsed": true
   },
   "outputs": [],
   "source": [
    "ind = test_df['index']\n",
    "test = test_df.drop(['index'],axis=1)"
   ]
  },
  {
   "cell_type": "code",
   "execution_count": 26,
   "metadata": {
    "collapsed": true
   },
   "outputs": [],
   "source": [
    "pred_val = model.predict(test,num_iteration=model.best_iteration)\n",
    "\n",
    "y_out = [1 if i > 0.5 else 0 for i in pred_val]"
   ]
  },
  {
   "cell_type": "code",
   "execution_count": 30,
   "metadata": {},
   "outputs": [],
   "source": [
    "dfdict={}\n",
    "\n",
    "dfdict[\"index\"]=ind\n",
    "dfdict[\"TARGET\"]=y_out\n",
    "\n",
    "df=pd.DataFrame(dfdict)\n",
    "df.to_csv(\"solution.csv\",index=False,columns=[\"index\",\"TARGET\"])"
   ]
  },
  {
   "cell_type": "code",
   "execution_count": null,
   "metadata": {
    "collapsed": true
   },
   "outputs": [],
   "source": []
  }
 ],
 "metadata": {
  "kernelspec": {
   "display_name": "Python 3",
   "language": "python",
   "name": "python3"
  },
  "language_info": {
   "codemirror_mode": {
    "name": "ipython",
    "version": 3
   },
   "file_extension": ".py",
   "mimetype": "text/x-python",
   "name": "python",
   "nbconvert_exporter": "python",
   "pygments_lexer": "ipython3",
   "version": "3.6.3"
  }
 },
 "nbformat": 4,
 "nbformat_minor": 2
}
