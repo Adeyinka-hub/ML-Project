{
 "cells": [
  {
   "cell_type": "code",
   "execution_count": 143,
   "metadata": {
    "collapsed": true
   },
   "outputs": [],
   "source": [
    "import pandas as pd\n",
    "from sklearn.model_selection import train_test_split\n",
    "from sklearn.metrics import roc_auc_score\n",
    "import numpy as np\n",
    "from xgboost import XGBClassifier\n",
    "from imblearn.over_sampling import RandomOverSampler\n",
    "from sklearn.ensemble import RandomForestClassifier\n",
    "from imblearn.ensemble import BalancedRandomForestClassifier\n",
    "from sklearn.model_selection import GridSearchCV\n",
    "from sklearn.metrics import make_scorer\n"
   ]
  },
  {
   "cell_type": "code",
   "execution_count": 144,
   "metadata": {
    "collapsed": true
   },
   "outputs": [],
   "source": [
    "train_df = pd.read_csv('TRAIN_FINAL.csv')"
   ]
  },
  {
   "cell_type": "code",
   "execution_count": 145,
   "metadata": {
    "collapsed": true
   },
   "outputs": [],
   "source": [
    "test_df = pd.read_csv('Test_v1.csv')"
   ]
  },
  {
   "cell_type": "code",
   "execution_count": 146,
   "metadata": {
    "collapsed": true
   },
   "outputs": [],
   "source": [
    "zero = ['col_5', 'col_6', 'col_7', 'col_8', 'col_9', 'col_18', 'col_20', 'col_21', 'col_22', 'col_25', 'col_26', 'col_28', 'col_30', 'col_32', 'col_33', 'col_34', 'col_35', 'col_36', 'col_37', 'col_39', 'col_40', 'col_41', 'col_42', 'col_43', 'col_44', 'col_45', 'col_46', 'col_47', 'col_48', 'col_49', 'col_50', 'col_51', 'col_53', 'col_55', 'col_56', 'col_57', 'col_58', 'col_59', 'col_60', 'col_61', 'col_64', 'col_65', 'col_66', 'col_67', 'col_68', 'col_69', 'col_70', 'col_71', 'col_72', 'col_74', 'col_75', 'col_77', 'col_78', 'col_79', 'col_80', 'col_81', 'col_82', 'col_83', 'col_84', 'col_85', 'col_86', 'col_87', 'col_89', 'col_90', 'col_91', 'col_92', 'col_93', 'col_94', 'col_95', 'col_96', 'col_97', 'col_98', 'col_99', 'col_100', 'col_101', 'col_102', 'col_103', 'col_104', 'col_105', 'col_106', 'col_107', 'col_108', 'col_109', 'col_110', 'col_111', 'col_112', 'col_113', 'col_114', 'col_115', 'col_116', 'col_117', 'col_118', 'col_119', 'col_120', 'col_121', 'col_122', 'col_124', 'col_128', 'col_131', 'col_132', 'col_133', 'col_134', 'col_135', 'col_136', 'col_138', 'col_139', 'col_140', 'col_141', 'col_142', 'col_143', 'col_144', 'col_145', 'col_146', 'col_150', 'col_152', 'col_153', 'col_155', 'col_156', 'col_158', 'col_159', 'col_160', 'col_161', 'col_162', 'col_163', 'col_165', 'col_170', 'col_173', 'col_174', 'col_175', 'col_176', 'col_179', 'col_180', 'col_181', 'col_184', 'col_185', 'col_186', 'col_188', 'col_189', 'col_191', 'col_192', 'col_194', 'col_195', 'col_197', 'col_198', 'col_199', 'col_200', 'col_201', 'col_202', 'col_203', 'col_204', 'col_205', 'col_206', 'col_207', 'col_208', 'col_209', 'col_210', 'col_211', 'col_212', 'col_213', 'col_214', 'col_215', 'col_216', 'col_217', 'col_218', 'col_219', 'col_220', 'col_221', 'col_222', 'col_223', 'col_226', 'col_227', 'col_228', 'col_229', 'col_230', 'col_231', 'col_232', 'col_233', 'col_234', 'col_235', 'col_236', 'col_237', 'col_238', 'col_239', 'col_242', 'col_243', 'col_244', 'col_245', 'col_246', 'col_247', 'col_248', 'col_249', 'col_250', 'col_251', 'col_252', 'col_253', 'col_254', 'col_257', 'col_258', 'col_259', 'col_261', 'col_262', 'col_263', 'col_264', 'col_265', 'col_266', 'col_267', 'col_268', 'col_269', 'col_270', 'col_271', 'col_272', 'col_278', 'col_282', 'col_283', 'col_284', 'col_285', 'col_286', 'col_287', 'col_288', 'col_290', 'col_293', 'col_294', 'col_295', 'col_296', 'col_301', 'col_303', 'col_304', 'col_305', 'col_306', 'col_307', 'col_308', 'col_312', 'col_313', 'col_314', 'col_315', 'col_316', 'col_317', 'col_318', 'col_319', 'col_320', 'col_321', 'col_322', 'col_327', 'col_342', 'col_344', 'col_345', 'col_346', 'col_347', 'col_348', 'col_349', 'col_350', 'col_351', 'col_352', 'col_353', 'col_354', 'col_355', 'col_356', 'col_357', 'col_358', 'col_359', 'col_360', 'col_361', 'col_362', 'col_363', 'col_364', 'col_365', 'col_366', 'col_367','TARGET']"
   ]
  },
  {
   "cell_type": "code",
   "execution_count": 210,
   "metadata": {},
   "outputs": [],
   "source": [
    "imp = ['col_1', 'col_368', 'col_182', 'col_329', 'col_331', 'col_190', 'col_328', 'col_164', 'col_330', 'col_280', 'col_326', 'col_88', 'col_277', 'col_147', 'col_324', 'col_63', 'col_193', 'col_323', 'col_279', 'col_325', 'col_24', 'col_275', 'col_289', 'col_274', 'col_14', 'col_13', 'col_17', 'col_16', 'col_276', 'col_241', 'col_126', 'col_137', 'col_4', 'col_15', 'col_187', 'col_130', 'col_12', 'col_129', 'col_11', 'col_302', 'col_10', 'col_125', 'col_292', 'col_3', 'col_339', 'col_127', 'col_298', 'col_300', 'col_151', 'col_311', 'col_167', 'col_171', 'col_123', 'col_291', 'col_240', 'col_38', 'col_154', 'col_297', 'col_2', 'col_299', 'col_338', 'col_31', 'col_157', 'col_0', 'col_76', 'col_149', 'col_336', 'col_310', 'col_29', 'col_343', 'col_166', 'col_340', 'col_256', 'col_255', 'col_273', 'col_335', 'col_334', 'col_73', 'col_27', 'col_148', 'col_168', 'col_196', 'col_332', 'col_177', 'col_23', 'col_178', 'col_281', 'col_62', 'col_224', 'col_225', 'col_341', 'col_260', 'col_52', 'col_337', 'col_19']"
   ]
  },
  {
   "cell_type": "code",
   "execution_count": 211,
   "metadata": {},
   "outputs": [
    {
     "data": {
      "text/plain": [
       "'0.771074886541 val when removed col_64 from columns to be removed\\nlb 0.76653'"
      ]
     },
     "execution_count": 211,
     "metadata": {},
     "output_type": "execute_result"
    }
   ],
   "source": [
    "'''0.771074886541 val when removed col_64 from columns to be removed\n",
    "lb 0.76653'''"
   ]
  },
  {
   "cell_type": "code",
   "execution_count": 212,
   "metadata": {},
   "outputs": [],
   "source": [
    "X = train_df.drop(zero,axis=1)\n",
    "X = train_df[imp]\n",
    "y = train_df['TARGET']"
   ]
  },
  {
   "cell_type": "code",
   "execution_count": 213,
   "metadata": {
    "collapsed": true
   },
   "outputs": [],
   "source": [
    "X_train, X_test, y_train, y_test = train_test_split( X, y, test_size=0.33, random_state=42,stratify=y)"
   ]
  },
  {
   "cell_type": "code",
   "execution_count": 214,
   "metadata": {},
   "outputs": [
    {
     "data": {
      "text/plain": [
       "(30560, 95)"
      ]
     },
     "execution_count": 214,
     "metadata": {},
     "output_type": "execute_result"
    }
   ],
   "source": [
    "X_train.shape"
   ]
  },
  {
   "cell_type": "code",
   "execution_count": 215,
   "metadata": {},
   "outputs": [
    {
     "name": "stdout",
     "output_type": "stream",
     "text": [
      "0.770220529737\n"
     ]
    }
   ],
   "source": [
    "brf = BalancedRandomForestClassifier(n_estimators=500,max_depth=20,n_jobs=3,random_state=0)\n",
    "brf.fit(X_train, y_train) \n",
    "\n",
    "pred = brf.predict(X_test)\n",
    "print(roc_auc_score(y_test,pred))"
   ]
  },
  {
   "cell_type": "code",
   "execution_count": 101,
   "metadata": {},
   "outputs": [
    {
     "data": {
      "text/plain": [
       "101"
      ]
     },
     "execution_count": 101,
     "metadata": {},
     "output_type": "execute_result"
    }
   ],
   "source": [
    "len(X_train.columns)"
   ]
  },
  {
   "cell_type": "code",
   "execution_count": 153,
   "metadata": {
    "collapsed": true
   },
   "outputs": [],
   "source": [
    "d = zip(X.columns,brf.feature_importances_)"
   ]
  },
  {
   "cell_type": "code",
   "execution_count": 155,
   "metadata": {},
   "outputs": [],
   "source": [
    "d = list(d)"
   ]
  },
  {
   "cell_type": "code",
   "execution_count": 161,
   "metadata": {},
   "outputs": [],
   "source": [
    "import operator\n",
    "s = sorted(d,key=operator.itemgetter(1),reverse=True)\n"
   ]
  },
  {
   "cell_type": "code",
   "execution_count": 187,
   "metadata": {},
   "outputs": [
    {
     "data": {
      "text/plain": [
       "['col_1',\n",
       " 'col_368',\n",
       " 'col_182',\n",
       " 'col_329',\n",
       " 'col_331',\n",
       " 'col_190',\n",
       " 'col_328',\n",
       " 'col_164',\n",
       " 'col_330',\n",
       " 'col_280',\n",
       " 'col_326',\n",
       " 'col_88',\n",
       " 'col_277',\n",
       " 'col_147',\n",
       " 'col_324',\n",
       " 'col_63',\n",
       " 'col_193',\n",
       " 'col_323',\n",
       " 'col_279',\n",
       " 'col_325',\n",
       " 'col_24',\n",
       " 'col_275',\n",
       " 'col_289',\n",
       " 'col_274',\n",
       " 'col_14',\n",
       " 'col_13',\n",
       " 'col_17',\n",
       " 'col_16',\n",
       " 'col_276',\n",
       " 'col_241',\n",
       " 'col_126',\n",
       " 'col_137',\n",
       " 'col_4',\n",
       " 'col_15',\n",
       " 'col_187',\n",
       " 'col_130',\n",
       " 'col_12',\n",
       " 'col_129',\n",
       " 'col_11',\n",
       " 'col_302',\n",
       " 'col_10',\n",
       " 'col_125',\n",
       " 'col_292',\n",
       " 'col_3',\n",
       " 'col_339',\n",
       " 'col_127',\n",
       " 'col_298',\n",
       " 'col_300',\n",
       " 'col_151',\n",
       " 'col_311',\n",
       " 'col_167',\n",
       " 'col_171',\n",
       " 'col_123',\n",
       " 'col_291',\n",
       " 'col_240',\n",
       " 'col_38',\n",
       " 'col_154',\n",
       " 'col_297',\n",
       " 'col_2',\n",
       " 'col_299',\n",
       " 'col_338',\n",
       " 'col_31',\n",
       " 'col_157',\n",
       " 'col_0',\n",
       " 'col_76',\n",
       " 'col_149',\n",
       " 'col_336',\n",
       " 'col_310',\n",
       " 'col_29',\n",
       " 'col_343',\n",
       " 'col_166',\n",
       " 'col_340',\n",
       " 'col_256',\n",
       " 'col_255',\n",
       " 'col_273',\n",
       " 'col_335',\n",
       " 'col_334',\n",
       " 'col_73',\n",
       " 'col_27',\n",
       " 'col_148',\n",
       " 'col_168',\n",
       " 'col_196',\n",
       " 'col_332',\n",
       " 'col_177',\n",
       " 'col_23',\n",
       " 'col_178',\n",
       " 'col_281',\n",
       " 'col_62',\n",
       " 'col_224',\n",
       " 'col_225',\n",
       " 'col_341',\n",
       " 'col_260',\n",
       " 'col_52',\n",
       " 'col_337',\n",
       " 'col_19']"
      ]
     },
     "execution_count": 187,
     "metadata": {},
     "output_type": "execute_result"
    }
   ],
   "source": [
    "imp = []\n",
    "for i in range(95):\n",
    "    imp.append(s[i][0])\n",
    "imp"
   ]
  },
  {
   "cell_type": "code",
   "execution_count": 94,
   "metadata": {},
   "outputs": [
    {
     "data": {
      "text/plain": [
       "array([  2.48764335e-03,   1.97293758e-01,   2.96763125e-03,\n",
       "         3.80888266e-03,   5.25395670e-03,   4.27691832e-03,\n",
       "         4.58441613e-03,   4.66961675e-03,   7.40684417e-03,\n",
       "         7.62251354e-03,   5.12636613e-03,   6.60198774e-03,\n",
       "         7.15674700e-03,   3.48655094e-04,   9.32527170e-04,\n",
       "         1.01860853e-02,   1.42252508e-03,   2.05411155e-03,\n",
       "         2.65177004e-03,   3.12697651e-03,   3.81252850e-04,\n",
       "         2.30265989e-04,   5.99523530e-04,   1.47111748e-02,\n",
       "         1.52437975e-03,   2.41791436e-03,   2.02137360e-02,\n",
       "         3.21803272e-03,   4.22815295e-03,   5.30864675e-03,\n",
       "         3.53107996e-03,   4.66782008e-03,   5.01279708e-03,\n",
       "         5.27701998e-03,   1.66773920e-02,   1.41908893e-03,\n",
       "         2.32705656e-03,   3.41379936e-03,   3.04388661e-03,\n",
       "         2.63150813e-03,   3.27508284e-02,   1.89454263e-03,\n",
       "         3.31958675e-03,   1.40658009e-03,   1.96467336e-04,\n",
       "         3.25499755e-03,   1.61309991e-04,   9.37005752e-04,\n",
       "         8.20347886e-04,   5.60463177e-02,   3.77659682e-05,\n",
       "         5.12448981e-03,   3.54535374e-02,   1.41748915e-02,\n",
       "         1.00776582e-03,   5.74300981e-04,   4.57681540e-04,\n",
       "         3.12962114e-03,   6.01358015e-03,   1.76880865e-03,\n",
       "         1.78059262e-03,   4.17431240e-04,   1.71623965e-03,\n",
       "         8.87731431e-03,   1.01428325e-02,   6.41989491e-03,\n",
       "         1.73286982e-02,   1.07773688e-02,   2.42991706e-02,\n",
       "         6.15324262e-04,   9.06165511e-03,   3.13588713e-03,\n",
       "         3.86675831e-03,   3.03645863e-03,   3.48341182e-03,\n",
       "         2.74600238e-03,   3.46464378e-03,   4.40430104e-03,\n",
       "         6.93855510e-05,   2.23024849e-03,   3.38737373e-03,\n",
       "         1.33626166e-02,   1.60465376e-02,   1.05994140e-02,\n",
       "         2.14843386e-02,   3.36749912e-02,   5.16428457e-02,\n",
       "         2.99008802e-02,   4.45372560e-02,   9.38968124e-04,\n",
       "         2.36148396e-04,   1.67247917e-03,   1.68287688e-03,\n",
       "         2.27817886e-03,   3.69097055e-04,   2.74597400e-03,\n",
       "         3.53152510e-03,   1.87623051e-03,   4.21433048e-04,\n",
       "         2.04263791e-03,   9.03496900e-02])"
      ]
     },
     "execution_count": 94,
     "metadata": {},
     "output_type": "execute_result"
    }
   ],
   "source": [
    "brf.feature_importances_"
   ]
  },
  {
   "cell_type": "code",
   "execution_count": 204,
   "metadata": {},
   "outputs": [
    {
     "data": {
      "text/plain": [
       "BalancedRandomForestClassifier(bootstrap=True, class_weight=None,\n",
       "                criterion='gini', max_depth=20, max_features='auto',\n",
       "                max_leaf_nodes=None, min_impurity_decrease=0.0,\n",
       "                min_samples_leaf=2, min_samples_split=2,\n",
       "                min_weight_fraction_leaf=0.0, n_estimators=500, n_jobs=3,\n",
       "                oob_score=False, random_state=0, replacement=False,\n",
       "                sampling_strategy='auto', verbose=0, warm_start=False)"
      ]
     },
     "execution_count": 204,
     "metadata": {},
     "output_type": "execute_result"
    }
   ],
   "source": [
    "brf.fit(X,y)"
   ]
  },
  {
   "cell_type": "code",
   "execution_count": null,
   "metadata": {
    "collapsed": true
   },
   "outputs": [],
   "source": [
    "'''lb 0.77212 when on whole dataset'''"
   ]
  },
  {
   "cell_type": "code",
   "execution_count": 35,
   "metadata": {},
   "outputs": [
    {
     "data": {
      "text/plain": [
       "'lb 0.77090 when trained on whole dataset'"
      ]
     },
     "execution_count": 35,
     "metadata": {},
     "output_type": "execute_result"
    }
   ],
   "source": [
    "'''lb 0.77090 when trained on whole dataset'''"
   ]
  },
  {
   "cell_type": "code",
   "execution_count": 34,
   "metadata": {},
   "outputs": [
    {
     "data": {
      "text/plain": [
       "'lb 0.77065 val 0.77039 when trained on train test split'"
      ]
     },
     "execution_count": 34,
     "metadata": {},
     "output_type": "execute_result"
    }
   ],
   "source": [
    "'''lb 0.77065 val 0.77039 when trained on train test split'''"
   ]
  },
  {
   "cell_type": "code",
   "execution_count": 205,
   "metadata": {
    "collapsed": true
   },
   "outputs": [],
   "source": [
    "test_drop= ['col_5', 'col_6', 'col_7', 'col_8', 'col_9', 'col_18', 'col_20', 'col_21', 'col_22', 'col_25', 'col_26', 'col_28', 'col_30', 'col_32', 'col_33', 'col_34', 'col_35', 'col_36', 'col_37', 'col_39', 'col_40', 'col_41', 'col_42', 'col_43', 'col_44', 'col_45', 'col_46', 'col_47', 'col_48', 'col_49', 'col_50', 'col_51', 'col_53', 'col_55', 'col_56', 'col_57', 'col_58', 'col_59', 'col_60', 'col_61',  'col_65', 'col_66', 'col_67', 'col_68', 'col_69', 'col_70', 'col_71', 'col_72', 'col_74', 'col_75', 'col_77', 'col_78', 'col_79', 'col_80', 'col_81', 'col_82', 'col_83', 'col_84', 'col_85', 'col_86', 'col_87', 'col_89', 'col_90', 'col_91', 'col_92', 'col_93', 'col_94', 'col_95', 'col_96', 'col_97', 'col_98', 'col_99', 'col_100', 'col_101', 'col_102', 'col_103', 'col_104', 'col_105', 'col_106', 'col_107', 'col_108', 'col_109', 'col_110', 'col_111', 'col_112', 'col_113', 'col_114', 'col_115', 'col_116', 'col_117', 'col_118', 'col_119', 'col_120', 'col_121', 'col_122', 'col_124', 'col_128', 'col_131', 'col_132', 'col_133', 'col_134', 'col_135', 'col_136', 'col_138', 'col_139', 'col_140', 'col_141', 'col_142', 'col_143', 'col_144', 'col_145', 'col_146', 'col_150', 'col_152', 'col_153', 'col_155', 'col_156', 'col_158', 'col_159', 'col_160', 'col_161', 'col_162', 'col_163', 'col_165', 'col_170', 'col_173', 'col_174', 'col_175', 'col_176', 'col_179', 'col_180', 'col_181', 'col_184', 'col_185', 'col_186', 'col_188', 'col_189', 'col_191', 'col_192', 'col_194', 'col_195', 'col_197', 'col_198', 'col_199', 'col_200', 'col_201', 'col_202', 'col_203', 'col_204', 'col_205', 'col_206', 'col_207', 'col_208', 'col_209', 'col_210', 'col_211', 'col_212', 'col_213', 'col_214', 'col_215', 'col_216', 'col_217', 'col_218', 'col_219', 'col_220', 'col_221', 'col_222', 'col_223', 'col_226', 'col_227', 'col_228', 'col_229', 'col_230', 'col_231', 'col_232', 'col_233', 'col_234', 'col_235', 'col_236', 'col_237', 'col_238', 'col_239', 'col_242', 'col_243', 'col_244', 'col_245', 'col_246', 'col_247', 'col_248', 'col_249', 'col_250', 'col_251', 'col_252', 'col_253', 'col_254', 'col_257', 'col_258', 'col_259', 'col_261', 'col_262', 'col_263', 'col_264', 'col_265', 'col_266', 'col_267', 'col_268', 'col_269', 'col_270', 'col_271', 'col_272', 'col_278', 'col_282', 'col_283', 'col_284', 'col_285', 'col_286', 'col_287', 'col_288', 'col_290', 'col_293', 'col_294', 'col_295', 'col_296', 'col_301', 'col_303', 'col_304', 'col_305', 'col_306', 'col_307', 'col_308', 'col_312', 'col_313', 'col_314', 'col_315', 'col_316', 'col_317', 'col_318', 'col_319', 'col_320', 'col_321', 'col_322', 'col_327', 'col_342', 'col_344', 'col_345', 'col_346', 'col_347', 'col_348', 'col_349', 'col_350', 'col_351', 'col_352', 'col_353', 'col_354', 'col_355', 'col_356', 'col_357', 'col_358', 'col_359', 'col_360', 'col_361', 'col_362', 'col_363', 'col_364', 'col_365', 'col_366', 'col_367','index']"
   ]
  },
  {
   "cell_type": "code",
   "execution_count": 206,
   "metadata": {
    "collapsed": true
   },
   "outputs": [],
   "source": [
    "ind = test_df['index']\n",
    "test = test_df.drop(test_drop,axis=1)\n",
    "test = test_df[imp]\n",
    "#test.columns = rename_col"
   ]
  },
  {
   "cell_type": "code",
   "execution_count": 207,
   "metadata": {
    "collapsed": true
   },
   "outputs": [],
   "source": [
    "y_out = brf.predict(test)"
   ]
  },
  {
   "cell_type": "code",
   "execution_count": 208,
   "metadata": {
    "collapsed": true
   },
   "outputs": [],
   "source": [
    "dfdict={}\n",
    "\n",
    "dfdict[\"index\"]=ind\n",
    "dfdict[\"TARGET\"]=y_out\n",
    "\n",
    "df=pd.DataFrame(dfdict)\n",
    "df.to_csv(\"solution.csv\",index=False,columns=[\"index\",\"TARGET\"])"
   ]
  },
  {
   "cell_type": "code",
   "execution_count": null,
   "metadata": {
    "collapsed": true
   },
   "outputs": [],
   "source": []
  }
 ],
 "metadata": {
  "kernelspec": {
   "display_name": "Python 3",
   "language": "python",
   "name": "python3"
  },
  "language_info": {
   "codemirror_mode": {
    "name": "ipython",
    "version": 3
   },
   "file_extension": ".py",
   "mimetype": "text/x-python",
   "name": "python",
   "nbconvert_exporter": "python",
   "pygments_lexer": "ipython3",
   "version": "3.6.3"
  }
 },
 "nbformat": 4,
 "nbformat_minor": 2
}
