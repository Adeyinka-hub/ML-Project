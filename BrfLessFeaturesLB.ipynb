{
 "cells": [
  {
   "cell_type": "code",
   "execution_count": 73,
   "metadata": {
    "collapsed": true
   },
   "outputs": [],
   "source": [
    "import pandas as pd\n",
    "from sklearn.model_selection import train_test_split\n",
    "from sklearn.metrics import roc_auc_score\n",
    "import numpy as np\n",
    "from xgboost import XGBClassifier\n",
    "from imblearn.over_sampling import RandomOverSampler\n",
    "from sklearn.ensemble import RandomForestClassifier\n",
    "from imblearn.ensemble import BalancedRandomForestClassifier\n",
    "from imblearn.over_sampling import ADASYN"
   ]
  },
  {
   "cell_type": "code",
   "execution_count": 74,
   "metadata": {
    "collapsed": true
   },
   "outputs": [],
   "source": [
    "train_df = pd.read_csv('TRAIN_FINAL.csv')"
   ]
  },
  {
   "cell_type": "code",
   "execution_count": 75,
   "metadata": {
    "collapsed": true
   },
   "outputs": [],
   "source": [
    "test_df = pd.read_csv('Test_v1.csv')"
   ]
  },
  {
   "cell_type": "code",
   "execution_count": 76,
   "metadata": {
    "collapsed": true
   },
   "outputs": [],
   "source": [
    "zero = ['col_5', 'col_6', 'col_7', 'col_8', 'col_9', 'col_18', 'col_20', 'col_21', 'col_22', 'col_25', 'col_26', 'col_28', 'col_30', 'col_32', 'col_33', 'col_34', 'col_35', 'col_36', 'col_37', 'col_39', 'col_40', 'col_41', 'col_42', 'col_43', 'col_44', 'col_45', 'col_46', 'col_47', 'col_48', 'col_49', 'col_50', 'col_51', 'col_53', 'col_55', 'col_56', 'col_57', 'col_58', 'col_59', 'col_60', 'col_61', 'col_64', 'col_65', 'col_66', 'col_67', 'col_68', 'col_69', 'col_70', 'col_71', 'col_72', 'col_74', 'col_75', 'col_77', 'col_78', 'col_79', 'col_80', 'col_81', 'col_82', 'col_83', 'col_84', 'col_85', 'col_86', 'col_87', 'col_89', 'col_90', 'col_91', 'col_92', 'col_93', 'col_94', 'col_95', 'col_96', 'col_97', 'col_98', 'col_99', 'col_100', 'col_101', 'col_102', 'col_103', 'col_104', 'col_105', 'col_106', 'col_107', 'col_108', 'col_109', 'col_110', 'col_111', 'col_112', 'col_113', 'col_114', 'col_115', 'col_116', 'col_117', 'col_118', 'col_119', 'col_120', 'col_121', 'col_122', 'col_124', 'col_128', 'col_131', 'col_132', 'col_133', 'col_134', 'col_135', 'col_136', 'col_138', 'col_139', 'col_140', 'col_141', 'col_142', 'col_143', 'col_144', 'col_145', 'col_146', 'col_150', 'col_152', 'col_153', 'col_155', 'col_156', 'col_158', 'col_159', 'col_160', 'col_161', 'col_162', 'col_163', 'col_165', 'col_170', 'col_173', 'col_174', 'col_175', 'col_176', 'col_179', 'col_180', 'col_181', 'col_184', 'col_185', 'col_186', 'col_188', 'col_189', 'col_191', 'col_192', 'col_194', 'col_195', 'col_197', 'col_198', 'col_199', 'col_200', 'col_201', 'col_202', 'col_203', 'col_204', 'col_205', 'col_206', 'col_207', 'col_208', 'col_209', 'col_210', 'col_211', 'col_212', 'col_213', 'col_214', 'col_215', 'col_216', 'col_217', 'col_218', 'col_219', 'col_220', 'col_221', 'col_222', 'col_223', 'col_226', 'col_227', 'col_228', 'col_229', 'col_230', 'col_231', 'col_232', 'col_233', 'col_234', 'col_235', 'col_236', 'col_237', 'col_238', 'col_239', 'col_242', 'col_243', 'col_244', 'col_245', 'col_246', 'col_247', 'col_248', 'col_249', 'col_250', 'col_251', 'col_252', 'col_253', 'col_254', 'col_257', 'col_258', 'col_259', 'col_261', 'col_262', 'col_263', 'col_264', 'col_265', 'col_266', 'col_267', 'col_268', 'col_269', 'col_270', 'col_271', 'col_272', 'col_278', 'col_282', 'col_283', 'col_284', 'col_285', 'col_286', 'col_287', 'col_288', 'col_290', 'col_293', 'col_294', 'col_295', 'col_296', 'col_301', 'col_303', 'col_304', 'col_305', 'col_306', 'col_307', 'col_308', 'col_312', 'col_313', 'col_314', 'col_315', 'col_316', 'col_317', 'col_318', 'col_319', 'col_320', 'col_321', 'col_322', 'col_327', 'col_342', 'col_344', 'col_345', 'col_346', 'col_347', 'col_348', 'col_349', 'col_350', 'col_351', 'col_352', 'col_353', 'col_354', 'col_355', 'col_356', 'col_357', 'col_358', 'col_359', 'col_360', 'col_361', 'col_362', 'col_363', 'col_364', 'col_365', 'col_366', 'col_367','TARGET']"
   ]
  },
  {
   "cell_type": "code",
   "execution_count": 77,
   "metadata": {
    "collapsed": true
   },
   "outputs": [],
   "source": [
    "X = train_df.drop(zero,axis=1)\n",
    "\n",
    "y = train_df['TARGET']"
   ]
  },
  {
   "cell_type": "code",
   "execution_count": 78,
   "metadata": {
    "collapsed": true
   },
   "outputs": [],
   "source": [
    "X_train, X_test, y_train, y_test = train_test_split( X, y, test_size=0.33, random_state=42,stratify=y)"
   ]
  },
  {
   "cell_type": "code",
   "execution_count": 79,
   "metadata": {},
   "outputs": [
    {
     "name": "stdout",
     "output_type": "stream",
     "text": [
      "0.770398050713\n"
     ]
    }
   ],
   "source": [
    "brf = BalancedRandomForestClassifier(n_estimators=700,max_depth=30,n_jobs=3, random_state=0)\n",
    "brf.fit(X_train, y_train) \n",
    "\n",
    "pred = brf.predict(X_test)\n",
    "print(roc_auc_score(y_test,pred))"
   ]
  },
  {
   "cell_type": "code",
   "execution_count": null,
   "metadata": {
    "collapsed": true
   },
   "outputs": [],
   "source": [
    "'''lb 0.77065 val 0.77039'''"
   ]
  },
  {
   "cell_type": "code",
   "execution_count": 80,
   "metadata": {
    "collapsed": true
   },
   "outputs": [],
   "source": [
    "test_drop = zero = ['col_5', 'col_6', 'col_7', 'col_8', 'col_9', 'col_18', 'col_20', 'col_21', 'col_22', 'col_25', 'col_26', 'col_28', 'col_30', 'col_32', 'col_33', 'col_34', 'col_35', 'col_36', 'col_37', 'col_39', 'col_40', 'col_41', 'col_42', 'col_43', 'col_44', 'col_45', 'col_46', 'col_47', 'col_48', 'col_49', 'col_50', 'col_51', 'col_53', 'col_55', 'col_56', 'col_57', 'col_58', 'col_59', 'col_60', 'col_61', 'col_64', 'col_65', 'col_66', 'col_67', 'col_68', 'col_69', 'col_70', 'col_71', 'col_72', 'col_74', 'col_75', 'col_77', 'col_78', 'col_79', 'col_80', 'col_81', 'col_82', 'col_83', 'col_84', 'col_85', 'col_86', 'col_87', 'col_89', 'col_90', 'col_91', 'col_92', 'col_93', 'col_94', 'col_95', 'col_96', 'col_97', 'col_98', 'col_99', 'col_100', 'col_101', 'col_102', 'col_103', 'col_104', 'col_105', 'col_106', 'col_107', 'col_108', 'col_109', 'col_110', 'col_111', 'col_112', 'col_113', 'col_114', 'col_115', 'col_116', 'col_117', 'col_118', 'col_119', 'col_120', 'col_121', 'col_122', 'col_124', 'col_128', 'col_131', 'col_132', 'col_133', 'col_134', 'col_135', 'col_136', 'col_138', 'col_139', 'col_140', 'col_141', 'col_142', 'col_143', 'col_144', 'col_145', 'col_146', 'col_150', 'col_152', 'col_153', 'col_155', 'col_156', 'col_158', 'col_159', 'col_160', 'col_161', 'col_162', 'col_163', 'col_165', 'col_170', 'col_173', 'col_174', 'col_175', 'col_176', 'col_179', 'col_180', 'col_181', 'col_184', 'col_185', 'col_186', 'col_188', 'col_189', 'col_191', 'col_192', 'col_194', 'col_195', 'col_197', 'col_198', 'col_199', 'col_200', 'col_201', 'col_202', 'col_203', 'col_204', 'col_205', 'col_206', 'col_207', 'col_208', 'col_209', 'col_210', 'col_211', 'col_212', 'col_213', 'col_214', 'col_215', 'col_216', 'col_217', 'col_218', 'col_219', 'col_220', 'col_221', 'col_222', 'col_223', 'col_226', 'col_227', 'col_228', 'col_229', 'col_230', 'col_231', 'col_232', 'col_233', 'col_234', 'col_235', 'col_236', 'col_237', 'col_238', 'col_239', 'col_242', 'col_243', 'col_244', 'col_245', 'col_246', 'col_247', 'col_248', 'col_249', 'col_250', 'col_251', 'col_252', 'col_253', 'col_254', 'col_257', 'col_258', 'col_259', 'col_261', 'col_262', 'col_263', 'col_264', 'col_265', 'col_266', 'col_267', 'col_268', 'col_269', 'col_270', 'col_271', 'col_272', 'col_278', 'col_282', 'col_283', 'col_284', 'col_285', 'col_286', 'col_287', 'col_288', 'col_290', 'col_293', 'col_294', 'col_295', 'col_296', 'col_301', 'col_303', 'col_304', 'col_305', 'col_306', 'col_307', 'col_308', 'col_312', 'col_313', 'col_314', 'col_315', 'col_316', 'col_317', 'col_318', 'col_319', 'col_320', 'col_321', 'col_322', 'col_327', 'col_342', 'col_344', 'col_345', 'col_346', 'col_347', 'col_348', 'col_349', 'col_350', 'col_351', 'col_352', 'col_353', 'col_354', 'col_355', 'col_356', 'col_357', 'col_358', 'col_359', 'col_360', 'col_361', 'col_362', 'col_363', 'col_364', 'col_365', 'col_366', 'col_367','index']"
   ]
  },
  {
   "cell_type": "code",
   "execution_count": 81,
   "metadata": {
    "collapsed": true
   },
   "outputs": [],
   "source": [
    "ind = test_df['index']\n",
    "test = test_df.drop(test_drop,axis=1)\n",
    "#test.columns = rename_col"
   ]
  },
  {
   "cell_type": "code",
   "execution_count": 82,
   "metadata": {},
   "outputs": [],
   "source": [
    "y_out = brf.predict(test)"
   ]
  },
  {
   "cell_type": "code",
   "execution_count": 72,
   "metadata": {
    "collapsed": true
   },
   "outputs": [],
   "source": [
    "dfdict={}\n",
    "\n",
    "dfdict[\"index\"]=ind\n",
    "dfdict[\"TARGET\"]=y_out\n",
    "\n",
    "df=pd.DataFrame(dfdict)\n",
    "df.to_csv(\"solution.csv\",index=False,columns=[\"index\",\"TARGET\"])"
   ]
  },
  {
   "cell_type": "code",
   "execution_count": null,
   "metadata": {
    "collapsed": true
   },
   "outputs": [],
   "source": []
  }
 ],
 "metadata": {
  "kernelspec": {
   "display_name": "Python 3",
   "language": "python",
   "name": "python3"
  },
  "language_info": {
   "codemirror_mode": {
    "name": "ipython",
    "version": 3
   },
   "file_extension": ".py",
   "mimetype": "text/x-python",
   "name": "python",
   "nbconvert_exporter": "python",
   "pygments_lexer": "ipython3",
   "version": "3.6.3"
  }
 },
 "nbformat": 4,
 "nbformat_minor": 2
}
