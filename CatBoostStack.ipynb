{
 "cells": [
  {
   "cell_type": "code",
   "execution_count": 55,
   "metadata": {
    "collapsed": true
   },
   "outputs": [],
   "source": [
    "import pandas as pd\n",
    "from sklearn.model_selection import train_test_split\n",
    "from sklearn.metrics import roc_auc_score\n",
    "from sklearn.decomposition import PCA\n",
    "import numpy as np"
   ]
  },
  {
   "cell_type": "code",
   "execution_count": 2,
   "metadata": {
    "collapsed": true
   },
   "outputs": [],
   "source": [
    "from catboost import CatBoostClassifier"
   ]
  },
  {
   "cell_type": "code",
   "execution_count": 3,
   "metadata": {
    "collapsed": true
   },
   "outputs": [],
   "source": [
    "train_df_original = pd.read_csv('TRAIN_FINAL.csv')\n",
    "test_df = pd.read_csv('Test_v1.csv')"
   ]
  },
  {
   "cell_type": "code",
   "execution_count": 14,
   "metadata": {
    "collapsed": true
   },
   "outputs": [],
   "source": [
    "positive_dataset = train_df_original[train_df_original['TARGET']==0]\n",
    "\n",
    "negative_dataset = train_df_original[train_df_original['TARGET']==1]\n",
    "\n",
    "sample_positive5 = positive_dataset.sample(n=1763*5,random_state=42)\n",
    "train_df5 = pd.concat([sample_positive,negative_dataset])\n",
    "train_df5 = train_df.sample(frac = 1,random_state=42)\n",
    "\n",
    "sample_positive10 = positive_dataset.sample(n=1763*10,random_state=43)\n",
    "train_df10 = pd.concat([sample_positive,negative_dataset])\n",
    "train_df10 = train_df.sample(frac = 1,random_state=42)\n",
    "\n",
    "sample_positive15 = positive_dataset.sample(n=1763*15,random_state=44)\n",
    "train_df15 = pd.concat([sample_positive,negative_dataset])\n",
    "train_df15 = train_df.sample(frac = 1,random_state=42)"
   ]
  },
  {
   "cell_type": "code",
   "execution_count": 15,
   "metadata": {
    "collapsed": true
   },
   "outputs": [],
   "source": [
    "X_5 = train_df5.drop(['TARGET'],axis=1)\n",
    "\n",
    "y_5 = train_df5['TARGET']\n",
    "\n",
    "X_train_5, X_test_5, y_train_5, y_test_5 = train_test_split( X_5, y_5, test_size=0.33, random_state=42,stratify = y_5)\n",
    "\n",
    "\n",
    "X_10 = train_df10.drop(['TARGET'],axis=1)\n",
    "\n",
    "y_10 = train_df10['TARGET']\n",
    "\n",
    "X_train_10, X_test_10, y_train_10, y_test_10 = train_test_split( X_10, y_10, test_size=0.33, random_state=43,stratify = y_10)\n",
    "\n",
    "X_15 = train_df15.drop(['TARGET'],axis=1)\n",
    "\n",
    "y_15 = train_df15['TARGET']\n",
    "\n",
    "X_train_15, X_test_15, y_train_15, y_test_15 = train_test_split( X_15, y_15, test_size=0.33, random_state=44,stratify = y_15)"
   ]
  },
  {
   "cell_type": "code",
   "execution_count": 72,
   "metadata": {},
   "outputs": [
    {
     "name": "stdout",
     "output_type": "stream",
     "text": [
      "0.731508684389\n",
      "0.754341308346\n",
      "0.756819693356\n"
     ]
    }
   ],
   "source": [
    "#5\n",
    "\n",
    "cat_5 = CatBoostClassifier(class_weights=[1,5],n_estimators=500,depth=6, \n",
    "    l2_leaf_reg = 14)\n",
    "\n",
    "cat_5.fit(X_train_5, y_train_5,eval_set=(X_test_5, y_test_5),\n",
    "                               use_best_model=True,verbose_eval=False)\n",
    "\n",
    "pred = cat_5.predict(X_test_5)\n",
    "print(roc_auc_score(y_test_5,pred))\n",
    "\n",
    "\n",
    "#10\n",
    "\n",
    "cat_10 = CatBoostClassifier(class_weights=[1,10],n_estimators=500,depth=6, \n",
    "    l2_leaf_reg = 14)\n",
    "\n",
    "cat_10.fit(X_train_10, y_train_10,eval_set=(X_test_10, y_test_10),\n",
    "                               use_best_model=True,verbose_eval=False)\n",
    "\n",
    "pred = cat_10.predict(X_test_10)\n",
    "print(roc_auc_score(y_test_10,pred))\n",
    "\n",
    "\n",
    "#15\n",
    "\n",
    "cat_15 = CatBoostClassifier(class_weights=[1,15],n_estimators=500,depth=6, \n",
    "    l2_leaf_reg = 14)\n",
    "\n",
    "cat_15.fit(X_train_15, y_train_15,eval_set=(X_test_15, y_test_15),\n",
    "                               use_best_model=True,verbose_eval=False)\n",
    "\n",
    "pred = cat_15.predict(X_test_15)\n",
    "print(roc_auc_score(y_test_15,pred))\n"
   ]
  },
  {
   "cell_type": "code",
   "execution_count": 44,
   "metadata": {
    "collapsed": true
   },
   "outputs": [],
   "source": [
    "#tune threshold"
   ]
  },
  {
   "cell_type": "code",
   "execution_count": 73,
   "metadata": {},
   "outputs": [
    {
     "name": "stdout",
     "output_type": "stream",
     "text": [
      "0.7759031398\n"
     ]
    }
   ],
   "source": [
    "#stacking test\n",
    "\n",
    "# stacking dataset\n",
    "\n",
    "cat_5_out =  cat_5.predict_proba(X_test_15)[:,1]\n",
    "cat_10_out = cat_10.predict_proba(X_test_15)[:,1]\n",
    "cat_15_out = cat_15.predict_proba(X_test_15)[:,1]\n",
    "pred = ((cat_5_out + cat_10_out + cat_15_out)/3 > 0.44).astype('int')\n",
    "print(roc_auc_score(y_test_15,pred))"
   ]
  },
  {
   "cell_type": "code",
   "execution_count": 74,
   "metadata": {},
   "outputs": [
    {
     "name": "stdout",
     "output_type": "stream",
     "text": [
      "0.4 0.774779715517\n",
      "0.405 0.774522780942\n",
      "0.41 0.776327820167\n",
      "0.415 0.776929992121\n",
      "0.42 0.776673057545\n",
      "0.425 0.777962455657\n",
      "0.43 0.773495928621\n",
      "0.435 0.775300967846\n",
      "0.44 0.7759031398\n",
      "0.445 0.777450358468\n",
      "0.45 0.778395995837\n",
      "0.455 0.777279954732\n",
      "0.46 0.777366485572\n",
      "0.465 0.777538956598\n",
      "0.47 0.776680440723\n",
      "0.475 0.776422915493\n",
      "0.48 0.777626373419\n",
      "0.485 0.777455083702\n",
      "0.49 0.776682508012\n",
      "0.495 0.774793005237\n"
     ]
    }
   ],
   "source": [
    "for i in np.arange(0.4,0.5,0.005):\n",
    "    pred = ((cat_5_out + cat_10_out + cat_15_out)/3 > i).astype('int')\n",
    "    print(i,roc_auc_score(y_test_15,pred))"
   ]
  },
  {
   "cell_type": "code",
   "execution_count": 65,
   "metadata": {
    "collapsed": true
   },
   "outputs": [],
   "source": [
    "ind = test_df['index']\n",
    "test = test_df.drop(['index'],axis=1)"
   ]
  },
  {
   "cell_type": "code",
   "execution_count": 62,
   "metadata": {
    "collapsed": true
   },
   "outputs": [],
   "source": [
    "cat_5_out =  cat_5.predict_proba(test)[:,1]\n",
    "cat_10_out = cat_10.predict_proba(test)[:,1]\n",
    "cat_15_out = cat_15.predict_proba(test)[:,1]\n",
    "\n",
    "y_out = ((cat_5_out + cat_10_out + cat_15_out)/3 > 0.4).astype('int')\n",
    "dfdict={}\n",
    "\n",
    "dfdict[\"index\"]=ind\n",
    "dfdict[\"TARGET\"]=y_out\n",
    "\n",
    "df=pd.DataFrame(dfdict)\n",
    "df.to_csv(\"solution.csv\",index=False,columns=[\"index\",\"TARGET\"])"
   ]
  },
  {
   "cell_type": "code",
   "execution_count": null,
   "metadata": {
    "collapsed": true
   },
   "outputs": [],
   "source": [
    "'''0.766 5 times oversampled\n",
    "0.769291061394 10 times oversampled\n",
    "0.773670762263 class_weights=[1,10],n_estimators=500,depth=6, \n",
    "    l2_leaf_reg = 14\n",
    "0.77049245203  class_weights=[1,10],n_estimators=500,depth=8, \n",
    "    l2_leaf_reg = 14\n",
    " 0.761128515721   (class_weights=[1,20],n_estimators=1000,depth=2, \n",
    "    l2_leaf_reg = 14\n",
    "0.761386040951 class_weights=[1,20],n_estimators=500,depth=6, \n",
    "    l2_leaf_reg = 14\n",
    "0.776078268769 class_weights=[1,5],n_estimators=500,depth=6, \n",
    "    l2_leaf_reg = 14  0.75977 on lb\n",
    "\n",
    "'''"
   ]
  }
 ],
 "metadata": {
  "kernelspec": {
   "display_name": "Python 3",
   "language": "python",
   "name": "python3"
  },
  "language_info": {
   "codemirror_mode": {
    "name": "ipython",
    "version": 3
   },
   "file_extension": ".py",
   "mimetype": "text/x-python",
   "name": "python",
   "nbconvert_exporter": "python",
   "pygments_lexer": "ipython3",
   "version": "3.6.3"
  }
 },
 "nbformat": 4,
 "nbformat_minor": 2
}
