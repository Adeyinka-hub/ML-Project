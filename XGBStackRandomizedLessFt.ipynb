{
 "cells": [
  {
   "cell_type": "code",
   "execution_count": 11,
   "metadata": {
    "collapsed": true
   },
   "outputs": [],
   "source": [
    "import pandas as pd\n",
    "from sklearn.model_selection import train_test_split\n",
    "from sklearn.metrics import roc_auc_score\n",
    "from sklearn.decomposition import PCA\n",
    "from random import shuffle\n",
    "import numpy as np"
   ]
  },
  {
   "cell_type": "code",
   "execution_count": 13,
   "metadata": {
    "collapsed": true
   },
   "outputs": [],
   "source": [
    "train_df_original = pd.read_csv('TRAIN_FINAL.csv')\n",
    "test_df = pd.read_csv('Test_v1.csv')"
   ]
  },
  {
   "cell_type": "code",
   "execution_count": 45,
   "metadata": {},
   "outputs": [],
   "source": [
    "train_df_original.drop(zero,inplace=True,axis=1)\n",
    "test_df.drop(zero,inplace=True,axis=1)"
   ]
  },
  {
   "cell_type": "code",
   "execution_count": 46,
   "metadata": {
    "collapsed": true
   },
   "outputs": [],
   "source": [
    "positive_dataset = train_df_original[train_df_original['TARGET']==0]"
   ]
  },
  {
   "cell_type": "code",
   "execution_count": 47,
   "metadata": {},
   "outputs": [],
   "source": [
    "positive_dataset = train_df_original[train_df_original['TARGET']==0]\n",
    "\n",
    "negative_dataset = train_df_original[train_df_original['TARGET']==1]\n",
    "\n",
    "positive_dataset = positive_dataset.reindex(np.random.permutation(positive_dataset.index))\n",
    "sample_positive5 = positive_dataset[:1763*2] #2\n",
    "train_df5 = pd.concat([sample_positive5,negative_dataset])\n",
    "train_df5 = train_df5.sample(frac = 1,random_state=42)\n",
    "\n",
    "positive_dataset = positive_dataset.reindex(np.random.permutation(positive_dataset.index))\n",
    "sample_positive10 =positive_dataset[17630:19393] #1\n",
    "train_df10 = pd.concat([sample_positive10,negative_dataset])\n",
    "train_df10 = train_df10.sample(frac = 1,random_state=42)\n",
    "\n",
    "positive_dataset = positive_dataset.reindex(np.random.permutation(positive_dataset.index))\n",
    "sample_positive15 = positive_dataset[19393:36713] #10\n",
    "train_df15 = pd.concat([sample_positive15,negative_dataset])\n",
    "train_df15 = train_df15.sample(frac = 1,random_state=42)\n",
    "\n",
    "positive_dataset = positive_dataset.reindex(np.random.permutation(positive_dataset.index))\n",
    "sample_positive20 = positive_dataset[36713:42002] #3\n",
    "train_df20 = pd.concat([sample_positive20,negative_dataset])\n",
    "train_df20 = train_df20.sample(frac = 1,random_state=42)\n",
    "\n",
    "positive_dataset = positive_dataset.reindex(np.random.permutation(positive_dataset.index))\n",
    "sample_positive25 = positive_dataset[42002:] #4\n",
    "train_df25 = pd.concat([sample_positive25,negative_dataset])\n",
    "train_df25 = train_df25.sample(frac = 1,random_state=42)"
   ]
  },
  {
   "cell_type": "code",
   "execution_count": 23,
   "metadata": {},
   "outputs": [
    {
     "data": {
      "text/plain": [
       "1763"
      ]
     },
     "execution_count": 23,
     "metadata": {},
     "output_type": "execute_result"
    }
   ],
   "source": [
    "len(negative_dataset)"
   ]
  },
  {
   "cell_type": "code",
   "execution_count": 48,
   "metadata": {
    "collapsed": true
   },
   "outputs": [],
   "source": [
    "X_5 = train_df5.drop(['TARGET'],axis=1)\n",
    "\n",
    "y_5 = train_df5['TARGET']\n",
    "\n",
    "X_train_5, X_test_5, y_train_5, y_test_5 = train_test_split( X_5, y_5, test_size=0.33, random_state=42,stratify = y_5)\n",
    "\n",
    "\n",
    "X_10 = train_df10.drop(['TARGET'],axis=1)\n",
    "\n",
    "y_10 = train_df10['TARGET']\n",
    "\n",
    "X_train_10, X_test_10, y_train_10, y_test_10 = train_test_split( X_10, y_10, test_size=0.33, random_state=43,stratify = y_10)\n",
    "\n",
    "X_15 = train_df15.drop(['TARGET'],axis=1)\n",
    "\n",
    "y_15 = train_df15['TARGET']\n",
    "\n",
    "X_train_15, X_test_15, y_train_15, y_test_15 = train_test_split( X_15, y_15, test_size=0.33, random_state=44,stratify = y_15)\n",
    "\n",
    "X_20 = train_df20.drop(['TARGET'],axis=1)\n",
    "\n",
    "y_20 = train_df20['TARGET']\n",
    "\n",
    "X_train_20, X_test_20, y_train_20, y_test_20 = train_test_split( X_20, y_20, test_size=0.33, random_state=42,stratify = y_20)\n",
    "\n",
    "\n",
    "X_25 = train_df25.drop(['TARGET'],axis=1)\n",
    "\n",
    "y_25 = train_df25['TARGET']\n",
    "\n",
    "X_train_25, X_test_25, y_train_25, y_test_25 = train_test_split( X_25, y_25, test_size=0.33, random_state=42,stratify = y_25)"
   ]
  },
  {
   "cell_type": "code",
   "execution_count": 25,
   "metadata": {},
   "outputs": [
    {
     "data": {
      "text/plain": [
       "2328"
      ]
     },
     "execution_count": 25,
     "metadata": {},
     "output_type": "execute_result"
    }
   ],
   "source": [
    "len(X_test_20)"
   ]
  },
  {
   "cell_type": "code",
   "execution_count": 86,
   "metadata": {},
   "outputs": [
    {
     "name": "stdout",
     "output_type": "stream",
     "text": [
      "0.752219593262\n"
     ]
    }
   ],
   "source": [
    "cat_25 = XGBClassifier(n_estimators=25,max_depth=2,scale_pos_weight=1.2)\n",
    "\n",
    "cat_25.fit(X_train_25, y_train_25)\n",
    "\n",
    "pred = cat_25.predict(X_test_25)\n",
    "print(roc_auc_score(y_test_25,pred))"
   ]
  },
  {
   "cell_type": "code",
   "execution_count": 96,
   "metadata": {},
   "outputs": [
    {
     "name": "stdout",
     "output_type": "stream",
     "text": [
      "0.753436426117\n"
     ]
    }
   ],
   "source": [
    "#20 \n",
    "\n",
    "cat_20 = XGBClassifier(n_estimators=125,max_depth=3,scale_pos_weight=3)\n",
    "\n",
    "cat_20.fit(X_train_20, y_train_20)\n",
    "\n",
    "pred = cat_20.predict(X_test_20)\n",
    "print(roc_auc_score(y_test_20,pred))\n"
   ]
  },
  {
   "cell_type": "code",
   "execution_count": 49,
   "metadata": {},
   "outputs": [
    {
     "name": "stdout",
     "output_type": "stream",
     "text": [
      "0.751718213058\n",
      "0.756872852234\n",
      "0.762941306611\n",
      "0.750572737686\n",
      "0.765523069123\n"
     ]
    }
   ],
   "source": [
    "#5\n",
    "from xgboost import XGBClassifier\n",
    "\n",
    "cat_5 = XGBClassifier(n_estimators=100,max_depth=2,scale_pos_weight=2)\n",
    "\n",
    "cat_5.fit(X_train_5, y_train_5)\n",
    "\n",
    "pred = cat_5.predict(X_test_5)\n",
    "print(roc_auc_score(y_test_5,pred))\n",
    "\n",
    "\n",
    "#10\n",
    "\n",
    "cat_10 = XGBClassifier(n_estimators=150,max_depth=5)\n",
    "\n",
    "cat_10.fit(X_train_10, y_train_10)\n",
    "\n",
    "pred = cat_10.predict(X_test_10)\n",
    "print(roc_auc_score(y_test_10,pred))\n",
    "\n",
    "\n",
    "#15\n",
    "\n",
    "cat_15 = XGBClassifier(n_estimators=100,max_depth=2,scale_pos_weight=10)\n",
    "\n",
    "cat_15.fit(X_train_15, y_train_15)\n",
    "\n",
    "pred = cat_15.predict(X_test_15)\n",
    "print(roc_auc_score(y_test_15,pred))\n",
    "\n",
    "#20 \n",
    "\n",
    "cat_20 = XGBClassifier(n_estimators=125,max_depth=3,scale_pos_weight=3)\n",
    "\n",
    "cat_20.fit(X_train_20, y_train_20)\n",
    "\n",
    "pred = cat_20.predict(X_test_20)\n",
    "print(roc_auc_score(y_test_20,pred))\n",
    "\n",
    "\n",
    "#25\n",
    "cat_25 = XGBClassifier(n_estimators=25,max_depth=2,scale_pos_weight=1.2)\n",
    "\n",
    "cat_25.fit(X_train_25, y_train_25)\n",
    "\n",
    "pred = cat_25.predict(X_test_25)\n",
    "print(roc_auc_score(y_test_25,pred))"
   ]
  },
  {
   "cell_type": "code",
   "execution_count": 54,
   "metadata": {},
   "outputs": [
    {
     "name": "stdout",
     "output_type": "stream",
     "text": [
      "0.768858260048\n"
     ]
    }
   ],
   "source": [
    "#stacking test\n",
    "\n",
    "# stacking dataset\n",
    "\n",
    "cat_5_out =  cat_5.predict_proba(X_test_15)[:,1]\n",
    "cat_10_out = cat_10.predict_proba(X_test_15)[:,1]\n",
    "cat_15_out = cat_15.predict_proba(X_test_15)[:,1]\n",
    "cat_20_out = cat_20.predict_proba(X_test_15)[:,1]\n",
    "cat_25_out = cat_25.predict_proba(X_test_15)[:,1]\n",
    "pred = ((cat_5_out*0.1 + cat_10_out*0.1 + cat_15_out*0.2 + cat_20_out*0.1 + cat_25_out*0.4) > 0.475).astype('int')\n",
    "print(roc_auc_score(y_test_15,pred))"
   ]
  },
  {
   "cell_type": "code",
   "execution_count": 55,
   "metadata": {},
   "outputs": [
    {
     "name": "stdout",
     "output_type": "stream",
     "text": [
      "0.773537655198 0.4\n",
      "0.773656391055 0.405\n",
      "0.773003494141 0.41\n",
      "0.772016333244 0.415\n",
      "0.773956386967 0.42\n",
      "0.772444383523 0.425\n",
      "0.772300698107 0.43\n",
      "0.77131353721 0.435\n",
      "0.772728748386 0.44\n",
      "0.772934958001 0.445\n",
      "0.769879689014 0.45\n",
      "0.769051844584 0.455\n",
      "0.769098737733 0.46\n",
      "0.766671416101 0.465\n",
      "0.765509307689 0.47\n",
      "0.767011992622 0.475\n",
      "0.768602151313 0.48\n",
      "0.768752149269 0.485\n",
      "0.771217045539 0.49\n",
      "0.770039306078 0.495\n",
      "0.767246458365 0.5\n",
      "0.767802563011 0.505\n",
      "0.767690139693 0.51\n",
      "0.769367772143 0.515\n",
      "0.771204721058 0.52\n",
      "0.77192014217 0.525\n",
      "0.771004823982 0.53\n",
      "0.768880504234 0.535\n",
      "0.764616233687 0.54\n",
      "0.763263546709 0.545\n",
      "0.759174223678 0.55\n",
      "0.75825890549 0.555\n",
      "0.757081166028 0.56\n",
      "0.758162113222 0.565\n",
      "0.752004682101 0.57\n",
      "0.752370208182 0.575\n",
      "0.752401470281 0.58\n",
      "0.751836047124 0.585\n",
      "0.749464937151 0.59\n",
      "0.744357191124 0.595\n"
     ]
    }
   ],
   "source": [
    "import numpy as np\n",
    "for i in np.arange(0.4,0.6,0.005):\n",
    "    pred = ((cat_5_out*0.1 + cat_10_out*0.1 + cat_15_out*0.3 + cat_20_out*0.1 + cat_25_out*0.3) > i).astype('int')\n",
    "    print(roc_auc_score(y_test_15,pred),i)\n",
    "\n",
    "\n"
   ]
  },
  {
   "cell_type": "code",
   "execution_count": 56,
   "metadata": {},
   "outputs": [
    {
     "name": "stdout",
     "output_type": "stream",
     "text": [
      "0.779001608796\n"
     ]
    }
   ],
   "source": [
    "#stacking test\n",
    "\n",
    "# stacking dataset\n",
    "\n",
    "cat_5_out =  cat_5.predict_proba(X_test_15)[:,1]\n",
    "cat_10_out = cat_10.predict_proba(X_test_15)[:,1]\n",
    "cat_15_out = cat_15.predict_proba(X_test_15)[:,1]\n",
    "cat_20_out = cat_20.predict_proba(X_test_15)[:,1]\n",
    "cat_25_out = cat_25.predict_proba(X_test_15)[:,1]\n",
    "pred = ((cat_5_out + cat_10_out + cat_15_out + cat_20_out + cat_25_out)/5 > 0.445).astype('int')\n",
    "print(roc_auc_score(y_test_15,pred))"
   ]
  },
  {
   "cell_type": "code",
   "execution_count": 99,
   "metadata": {},
   "outputs": [
    {
     "name": "stdout",
     "output_type": "stream",
     "text": [
      "0.4 0.776836407841\n",
      "0.405 0.777639302711\n",
      "0.41 0.776549037007\n",
      "0.415 0.775561876111\n",
      "0.42 0.775943033241\n",
      "0.425 0.778217350946\n",
      "0.43 0.77679282126\n",
      "0.435 0.776052450588\n",
      "0.44 0.775749448705\n",
      "0.445 0.77637739606\n",
      "0.45 0.777355238446\n",
      "0.455 0.778682975863\n",
      "0.46 0.779588975541\n",
      "0.465 0.779970132672\n",
      "0.47 0.779667130789\n",
      "0.475 0.780326340242\n",
      "0.48 0.781144866162\n",
      "0.485 0.780332652781\n",
      "0.49 0.780188967365\n",
      "0.495 0.777992804908\n",
      "0.5 0.775446747419\n",
      "0.505 0.775652957034\n",
      "0.51 0.777752327223\n",
      "0.515 0.778220958111\n",
      "0.52 0.779286274255\n",
      "0.525 0.777090111798\n",
      "0.53 0.778417849216\n",
      "0.535 0.777343214561\n",
      "0.54 0.775640632553\n",
      "0.545 0.772060521019\n",
      "0.55 0.771670045378\n",
      "0.555 0.771351412446\n",
      "0.56 0.772329254832\n",
      "0.565 0.771763831675\n",
      "0.57 0.771795093774\n",
      "0.575 0.773544568932\n",
      "0.58 0.773997568771\n",
      "0.585 0.770170667013\n",
      "0.59 0.768308768538\n",
      "0.595 0.768849242135\n"
     ]
    }
   ],
   "source": [
    "import numpy as np\n",
    "for i in np.arange(0.4,0.6,0.005):\n",
    "    pred = ((cat_5_out + cat_10_out + cat_15_out+cat_20_out +cat_25_out)/5 > i).astype('int')\n",
    "    print(i,roc_auc_score(y_test_15,pred))"
   ]
  },
  {
   "cell_type": "code",
   "execution_count": 111,
   "metadata": {
    "collapsed": true
   },
   "outputs": [],
   "source": [
    "ind = test_df['index']\n",
    "test = test_df.drop(['index'],axis=1)"
   ]
  },
  {
   "cell_type": "code",
   "execution_count": 58,
   "metadata": {},
   "outputs": [
    {
     "ename": "NameError",
     "evalue": "name 'test' is not defined",
     "output_type": "error",
     "traceback": [
      "\u001b[0;31m---------------------------------------------------------------------------\u001b[0m",
      "\u001b[0;31mNameError\u001b[0m                                 Traceback (most recent call last)",
      "\u001b[0;32m<ipython-input-58-64310f8b8f10>\u001b[0m in \u001b[0;36m<module>\u001b[0;34m()\u001b[0m\n\u001b[0;32m----> 1\u001b[0;31m \u001b[0mcat_5_out\u001b[0m \u001b[0;34m=\u001b[0m  \u001b[0mcat_5\u001b[0m\u001b[0;34m.\u001b[0m\u001b[0mpredict_proba\u001b[0m\u001b[0;34m(\u001b[0m\u001b[0mtest\u001b[0m\u001b[0;34m)\u001b[0m\u001b[0;34m[\u001b[0m\u001b[0;34m:\u001b[0m\u001b[0;34m,\u001b[0m\u001b[0;36m1\u001b[0m\u001b[0;34m]\u001b[0m\u001b[0;34m\u001b[0m\u001b[0m\n\u001b[0m\u001b[1;32m      2\u001b[0m \u001b[0mcat_10_out\u001b[0m \u001b[0;34m=\u001b[0m \u001b[0mcat_10\u001b[0m\u001b[0;34m.\u001b[0m\u001b[0mpredict_proba\u001b[0m\u001b[0;34m(\u001b[0m\u001b[0mtest\u001b[0m\u001b[0;34m)\u001b[0m\u001b[0;34m[\u001b[0m\u001b[0;34m:\u001b[0m\u001b[0;34m,\u001b[0m\u001b[0;36m1\u001b[0m\u001b[0;34m]\u001b[0m\u001b[0;34m\u001b[0m\u001b[0m\n\u001b[1;32m      3\u001b[0m \u001b[0mcat_15_out\u001b[0m \u001b[0;34m=\u001b[0m \u001b[0mcat_15\u001b[0m\u001b[0;34m.\u001b[0m\u001b[0mpredict_proba\u001b[0m\u001b[0;34m(\u001b[0m\u001b[0mtest\u001b[0m\u001b[0;34m)\u001b[0m\u001b[0;34m[\u001b[0m\u001b[0;34m:\u001b[0m\u001b[0;34m,\u001b[0m\u001b[0;36m1\u001b[0m\u001b[0;34m]\u001b[0m\u001b[0;34m\u001b[0m\u001b[0m\n\u001b[1;32m      4\u001b[0m \u001b[0mcat_20_out\u001b[0m \u001b[0;34m=\u001b[0m \u001b[0mcat_20\u001b[0m\u001b[0;34m.\u001b[0m\u001b[0mpredict_proba\u001b[0m\u001b[0;34m(\u001b[0m\u001b[0mtest\u001b[0m\u001b[0;34m)\u001b[0m\u001b[0;34m[\u001b[0m\u001b[0;34m:\u001b[0m\u001b[0;34m,\u001b[0m\u001b[0;36m1\u001b[0m\u001b[0;34m]\u001b[0m\u001b[0;34m\u001b[0m\u001b[0m\n\u001b[1;32m      5\u001b[0m \u001b[0mcat_25_out\u001b[0m \u001b[0;34m=\u001b[0m \u001b[0mcat_25\u001b[0m\u001b[0;34m.\u001b[0m\u001b[0mpredict_proba\u001b[0m\u001b[0;34m(\u001b[0m\u001b[0mtest\u001b[0m\u001b[0;34m)\u001b[0m\u001b[0;34m[\u001b[0m\u001b[0;34m:\u001b[0m\u001b[0;34m,\u001b[0m\u001b[0;36m1\u001b[0m\u001b[0;34m]\u001b[0m\u001b[0;34m\u001b[0m\u001b[0m\n",
      "\u001b[0;31mNameError\u001b[0m: name 'test' is not defined"
     ]
    }
   ],
   "source": [
    "cat_5_out =  cat_5.predict_proba(test)[:,1]\n",
    "cat_10_out = cat_10.predict_proba(test)[:,1]\n",
    "cat_15_out = cat_15.predict_proba(test)[:,1]\n",
    "cat_20_out = cat_20.predict_proba(test)[:,1]\n",
    "cat_25_out = cat_25.predict_proba(test)[:,1]\n",
    "\n",
    "#y_out = ((cat_5_out + cat_10_out + cat_15_out)/3 > 0.53).astype('int')\n",
    "y_out =  pred = ((cat_5_out*0.1 + cat_10_out*0.1 + cat_15_out*0.3 + cat_20_out*0.1 + cat_25_out*0.3) > 0.445).astype('int')\n",
    "dfdict={}\n",
    "\n",
    "dfdict[\"index\"]=ind\n",
    "dfdict[\"TARGET\"]=y_out\n",
    "\n",
    "df=pd.DataFrame(dfdict)\n",
    "df.to_csv(\"solution.csv\",index=False,columns=[\"index\",\"TARGET\"])"
   ]
  },
  {
   "cell_type": "code",
   "execution_count": null,
   "metadata": {
    "collapsed": true
   },
   "outputs": [],
   "source": [
    "'''0.76307 lb current best'''"
   ]
  },
  {
   "cell_type": "code",
   "execution_count": null,
   "metadata": {
    "collapsed": true
   },
   "outputs": [],
   "source": [
    "'''d 0.75784 lb this stack'''"
   ]
  },
  {
   "cell_type": "code",
   "execution_count": null,
   "metadata": {
    "collapsed": true
   },
   "outputs": [],
   "source": [
    "'''17630*16 positive pts, xgb 50est 2 depth pos_wt 16 0.76682 val'''"
   ]
  },
  {
   "cell_type": "code",
   "execution_count": null,
   "metadata": {
    "collapsed": true
   },
   "outputs": [],
   "source": [
    "'''17630 positive points, xgb 100est 3depth pos_wt 10 0.779427868719'''"
   ]
  },
  {
   "cell_type": "code",
   "execution_count": null,
   "metadata": {
    "collapsed": true
   },
   "outputs": [],
   "source": [
    "'''100-0.768 max depth 2'''"
   ]
  },
  {
   "cell_type": "code",
   "execution_count": 78,
   "metadata": {
    "collapsed": true
   },
   "outputs": [],
   "source": [
    "y_out = xgb.predict(test)\n",
    "\n",
    "dfdict={}\n",
    "\n",
    "dfdict[\"index\"]=ind\n",
    "dfdict[\"TARGET\"]=y_out\n",
    "\n",
    "df=pd.DataFrame(dfdict)\n",
    "df.to_csv(\"solution.csv\",index=False,columns=[\"index\",\"TARGET\"])"
   ]
  },
  {
   "cell_type": "code",
   "execution_count": 24,
   "metadata": {},
   "outputs": [
    {
     "name": "stdout",
     "output_type": "stream",
     "text": [
      "Index(['col_0', 'col_1', 'col_2', 'col_3', 'col_4', 'col_5', 'col_6', 'col_7',\n",
      "       'col_8', 'col_9',\n",
      "       ...\n",
      "       'col_359', 'col_360', 'col_361', 'col_362', 'col_363', 'col_364',\n",
      "       'col_365', 'col_366', 'col_367', 'col_368'],\n",
      "      dtype='object', length=369)\n"
     ]
    }
   ],
   "source": [
    "print(X_train.columns)"
   ]
  },
  {
   "cell_type": "code",
   "execution_count": 41,
   "metadata": {},
   "outputs": [
    {
     "name": "stdout",
     "output_type": "stream",
     "text": [
      "col_5\n",
      "col_6\n",
      "col_7\n",
      "col_8\n",
      "col_9\n",
      "col_16\n",
      "col_18\n",
      "col_19\n",
      "col_20\n",
      "col_21\n",
      "col_22\n",
      "col_24\n",
      "col_25\n",
      "col_26\n",
      "col_28\n",
      "col_30\n",
      "col_32\n",
      "col_33\n",
      "col_34\n",
      "col_35\n",
      "col_36\n",
      "col_37\n",
      "col_38\n",
      "col_40\n",
      "col_41\n",
      "col_42\n",
      "col_43\n",
      "col_44\n",
      "col_45\n",
      "col_46\n",
      "col_47\n",
      "col_49\n",
      "col_50\n",
      "col_51\n",
      "col_53\n",
      "col_54\n",
      "col_55\n",
      "col_56\n",
      "col_57\n",
      "col_58\n",
      "col_59\n",
      "col_60\n",
      "col_61\n",
      "col_64\n",
      "col_65\n",
      "col_66\n",
      "col_67\n",
      "col_68\n",
      "col_69\n",
      "col_70\n",
      "col_71\n",
      "col_72\n",
      "col_74\n",
      "col_75\n",
      "col_77\n",
      "col_78\n",
      "col_80\n",
      "col_81\n",
      "col_82\n",
      "col_83\n",
      "col_84\n",
      "col_85\n",
      "col_86\n",
      "col_87\n",
      "col_89\n",
      "col_90\n",
      "col_91\n",
      "col_92\n",
      "col_93\n",
      "col_94\n",
      "col_95\n",
      "col_96\n",
      "col_97\n",
      "col_98\n",
      "col_99\n",
      "col_100\n",
      "col_101\n",
      "col_102\n",
      "col_103\n",
      "col_104\n",
      "col_105\n",
      "col_106\n",
      "col_107\n",
      "col_108\n",
      "col_109\n",
      "col_110\n",
      "col_111\n",
      "col_112\n",
      "col_113\n",
      "col_114\n",
      "col_115\n",
      "col_116\n",
      "col_117\n",
      "col_118\n",
      "col_119\n",
      "col_120\n",
      "col_121\n",
      "col_122\n",
      "col_128\n",
      "col_130\n",
      "col_131\n",
      "col_132\n",
      "col_133\n",
      "col_134\n",
      "col_135\n",
      "col_136\n",
      "col_138\n",
      "col_139\n",
      "col_140\n",
      "col_141\n",
      "col_142\n",
      "col_143\n",
      "col_144\n",
      "col_145\n",
      "col_146\n",
      "col_150\n",
      "col_152\n",
      "col_153\n",
      "col_155\n",
      "col_156\n",
      "col_159\n",
      "col_160\n",
      "col_161\n",
      "col_162\n",
      "col_163\n",
      "col_165\n",
      "col_170\n",
      "col_172\n",
      "col_173\n",
      "col_174\n",
      "col_175\n",
      "col_176\n",
      "col_179\n",
      "col_180\n",
      "col_181\n",
      "col_184\n",
      "col_185\n",
      "col_186\n",
      "col_188\n",
      "col_189\n",
      "col_192\n",
      "col_194\n",
      "col_195\n",
      "col_197\n",
      "col_198\n",
      "col_199\n",
      "col_200\n",
      "col_201\n",
      "col_202\n",
      "col_203\n",
      "col_204\n",
      "col_205\n",
      "col_206\n",
      "col_207\n",
      "col_208\n",
      "col_209\n",
      "col_210\n",
      "col_211\n",
      "col_212\n",
      "col_213\n",
      "col_214\n",
      "col_215\n",
      "col_216\n",
      "col_217\n",
      "col_218\n",
      "col_219\n",
      "col_220\n",
      "col_221\n",
      "col_222\n",
      "col_223\n",
      "col_225\n",
      "col_226\n",
      "col_227\n",
      "col_228\n",
      "col_229\n",
      "col_230\n",
      "col_231\n",
      "col_232\n",
      "col_233\n",
      "col_234\n",
      "col_235\n",
      "col_236\n",
      "col_237\n",
      "col_238\n",
      "col_239\n",
      "col_242\n",
      "col_243\n",
      "col_244\n",
      "col_245\n",
      "col_246\n",
      "col_247\n",
      "col_248\n",
      "col_249\n",
      "col_250\n",
      "col_251\n",
      "col_252\n",
      "col_253\n",
      "col_258\n",
      "col_259\n",
      "col_261\n",
      "col_262\n",
      "col_263\n",
      "col_264\n",
      "col_265\n",
      "col_266\n",
      "col_267\n",
      "col_268\n",
      "col_269\n",
      "col_270\n",
      "col_271\n",
      "col_272\n",
      "col_278\n",
      "col_281\n",
      "col_282\n",
      "col_283\n",
      "col_284\n",
      "col_285\n",
      "col_286\n",
      "col_287\n",
      "col_288\n",
      "col_290\n",
      "col_293\n",
      "col_295\n",
      "col_296\n",
      "col_303\n",
      "col_304\n",
      "col_305\n",
      "col_306\n",
      "col_307\n",
      "col_308\n",
      "col_313\n",
      "col_314\n",
      "col_315\n",
      "col_316\n",
      "col_317\n",
      "col_318\n",
      "col_319\n",
      "col_320\n",
      "col_321\n",
      "col_322\n",
      "col_327\n",
      "col_333\n",
      "col_342\n",
      "col_344\n",
      "col_345\n",
      "col_346\n",
      "col_347\n",
      "col_348\n",
      "col_349\n",
      "col_350\n",
      "col_351\n",
      "col_352\n",
      "col_353\n",
      "col_354\n",
      "col_355\n",
      "col_356\n",
      "col_357\n",
      "col_358\n",
      "col_359\n",
      "col_360\n",
      "col_361\n",
      "col_362\n",
      "col_363\n",
      "col_364\n",
      "col_365\n",
      "col_366\n",
      "col_367\n"
     ]
    }
   ],
   "source": [
    "imp = cat_5.feature_importances_ + cat_10.feature_importances_ + cat_15.feature_importances_ + cat_20.feature_importances_+cat_25.feature_importances_\n",
    "zero = []\n",
    "for i,col in enumerate(X_train_25.columns):\n",
    "    if(imp[i]<0.00001):\n",
    "        print(col)\n",
    "        zero.append(col)"
   ]
  },
  {
   "cell_type": "code",
   "execution_count": 36,
   "metadata": {},
   "outputs": [
    {
     "name": "stdout",
     "output_type": "stream",
     "text": [
      "[ 0.          0.33333334  0.          0.          0.          0.          0.\n",
      "  0.          0.          0.          0.          0.          0.\n",
      "  0.02666667  0.          0.05333333  0.          0.04        0.          0.\n",
      "  0.          0.          0.          0.          0.          0.          0.\n",
      "  0.          0.          0.          0.          0.          0.          0.\n",
      "  0.          0.          0.          0.          0.          0.          0.\n",
      "  0.          0.          0.          0.          0.          0.          0.\n",
      "  0.          0.          0.          0.          0.          0.          0.\n",
      "  0.          0.          0.          0.          0.          0.          0.\n",
      "  0.          0.          0.          0.          0.          0.          0.\n",
      "  0.          0.          0.          0.          0.          0.          0.\n",
      "  0.          0.          0.          0.          0.          0.          0.\n",
      "  0.          0.          0.          0.          0.          0.          0.\n",
      "  0.          0.          0.          0.          0.          0.          0.\n",
      "  0.          0.          0.          0.          0.          0.          0.\n",
      "  0.          0.          0.          0.          0.          0.          0.\n",
      "  0.          0.          0.          0.          0.          0.          0.\n",
      "  0.          0.          0.          0.          0.          0.          0.\n",
      "  0.          0.          0.          0.          0.          0.          0.\n",
      "  0.          0.          0.          0.          0.          0.          0.\n",
      "  0.          0.          0.          0.          0.          0.          0.\n",
      "  0.          0.01333333  0.          0.          0.          0.          0.\n",
      "  0.          0.          0.          0.          0.          0.          0.\n",
      "  0.          0.          0.          0.          0.01333333  0.          0.\n",
      "  0.          0.          0.          0.          0.          0.          0.\n",
      "  0.          0.          0.          0.          0.          0.          0.\n",
      "  0.          0.25333333  0.          0.          0.          0.          0.\n",
      "  0.          0.          0.          0.          0.          0.          0.\n",
      "  0.          0.          0.          0.          0.          0.          0.\n",
      "  0.          0.          0.          0.          0.          0.          0.\n",
      "  0.          0.          0.          0.          0.          0.          0.\n",
      "  0.          0.          0.          0.          0.          0.          0.\n",
      "  0.          0.          0.          0.          0.          0.          0.\n",
      "  0.          0.          0.          0.          0.          0.          0.\n",
      "  0.          0.          0.          0.          0.          0.          0.\n",
      "  0.          0.          0.          0.          0.          0.          0.\n",
      "  0.          0.          0.          0.          0.          0.          0.\n",
      "  0.          0.          0.          0.          0.          0.          0.\n",
      "  0.          0.          0.          0.          0.          0.          0.\n",
      "  0.          0.          0.          0.          0.          0.          0.\n",
      "  0.02666667  0.          0.          0.          0.          0.          0.\n",
      "  0.          0.          0.          0.          0.          0.          0.\n",
      "  0.          0.          0.          0.          0.          0.          0.\n",
      "  0.          0.          0.          0.          0.          0.          0.\n",
      "  0.          0.          0.          0.          0.          0.          0.\n",
      "  0.          0.          0.          0.          0.          0.          0.\n",
      "  0.          0.          0.          0.          0.          0.          0.\n",
      "  0.          0.08        0.          0.05333333  0.          0.          0.\n",
      "  0.          0.          0.          0.          0.          0.          0.\n",
      "  0.          0.          0.          0.          0.          0.          0.\n",
      "  0.          0.          0.          0.          0.          0.          0.\n",
      "  0.          0.          0.          0.          0.          0.          0.\n",
      "  0.          0.          0.          0.          0.          0.10666667]\n"
     ]
    }
   ],
   "source": [
    "print(cat_25.feature_importances_)"
   ]
  },
  {
   "cell_type": "code",
   "execution_count": 26,
   "metadata": {
    "collapsed": true
   },
   "outputs": [],
   "source": [
    "def get_non_zero_importance(cols,xgb):\n",
    "    \n",
    "    non_zero = []\n",
    "    for i,val in enumerate(xgb.feature_importances_):\n",
    "        if(val>0.00001):\n",
    "            non_zero.append(cols[i])\n",
    "    return non_zero        \n",
    "    \n",
    "    "
   ]
  },
  {
   "cell_type": "code",
   "execution_count": 27,
   "metadata": {
    "collapsed": true
   },
   "outputs": [],
   "source": [
    "non_zero = get_non_zero_importance(X_train.columns,xgb)"
   ]
  },
  {
   "cell_type": "code",
   "execution_count": 31,
   "metadata": {
    "collapsed": true
   },
   "outputs": [],
   "source": [
    "non_zero.append('TARGET')"
   ]
  },
  {
   "cell_type": "code",
   "execution_count": null,
   "metadata": {
    "collapsed": true
   },
   "outputs": [],
   "source": []
  }
 ],
 "metadata": {
  "kernelspec": {
   "display_name": "Python 3",
   "language": "python",
   "name": "python3"
  },
  "language_info": {
   "codemirror_mode": {
    "name": "ipython",
    "version": 3
   },
   "file_extension": ".py",
   "mimetype": "text/x-python",
   "name": "python",
   "nbconvert_exporter": "python",
   "pygments_lexer": "ipython3",
   "version": "3.6.3"
  }
 },
 "nbformat": 4,
 "nbformat_minor": 2
}
