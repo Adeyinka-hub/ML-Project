{
 "cells": [
  {
   "cell_type": "code",
   "execution_count": 4,
   "metadata": {
    "collapsed": true
   },
   "outputs": [],
   "source": [
    "import pandas as pd\n",
    "from sklearn.model_selection import train_test_split\n",
    "from sklearn.metrics import roc_auc_score\n",
    "from sklearn.decomposition import PCA"
   ]
  },
  {
   "cell_type": "code",
   "execution_count": 5,
   "metadata": {
    "collapsed": true
   },
   "outputs": [],
   "source": [
    "train_df_original = pd.read_csv('TRAIN_FINAL.csv')\n",
    "test_df = pd.read_csv('Test_v1.csv')"
   ]
  },
  {
   "cell_type": "code",
   "execution_count": 6,
   "metadata": {
    "collapsed": true
   },
   "outputs": [],
   "source": [
    "positive_dataset = train_df_original[train_df_original['TARGET']==0]"
   ]
  },
  {
   "cell_type": "code",
   "execution_count": 12,
   "metadata": {
    "scrolled": true
   },
   "outputs": [
    {
     "data": {
      "text/plain": [
       "1763"
      ]
     },
     "execution_count": 12,
     "metadata": {},
     "output_type": "execute_result"
    }
   ],
   "source": [
    "len(negative_dataset)"
   ]
  },
  {
   "cell_type": "code",
   "execution_count": 27,
   "metadata": {},
   "outputs": [],
   "source": [
    "positive_dataset = train_df_original[train_df_original['TARGET']==0]\n",
    "\n",
    "negative_dataset = train_df_original[train_df_original['TARGET']==1]\n",
    "\n",
    "sample_positive5 = positive_dataset[:17630]\n",
    "train_df5 = pd.concat([sample_positive5,negative_dataset])\n",
    "train_df5 = train_df5.sample(frac = 1,random_state=42)\n",
    "\n",
    "sample_positive10 =positive_dataset[17630:19393]\n",
    "train_df10 = pd.concat([sample_positive10,negative_dataset])\n",
    "train_df10 = train_df10.sample(frac = 1,random_state=42)\n",
    "\n",
    "sample_positive15 = positive_dataset[35260:52890]\n",
    "train_df15 = pd.concat([sample_positive15,negative_dataset])\n",
    "train_df15 = train_df15.sample(frac = 1,random_state=42)"
   ]
  },
  {
   "cell_type": "code",
   "execution_count": 28,
   "metadata": {
    "collapsed": true
   },
   "outputs": [],
   "source": [
    "X_5 = train_df5.drop(['TARGET'],axis=1)\n",
    "\n",
    "y_5 = train_df5['TARGET']\n",
    "\n",
    "X_train_5, X_test_5, y_train_5, y_test_5 = train_test_split( X_5, y_5, test_size=0.33, random_state=42,stratify = y_5)\n",
    "\n",
    "\n",
    "X_10 = train_df10.drop(['TARGET'],axis=1)\n",
    "\n",
    "y_10 = train_df10['TARGET']\n",
    "\n",
    "X_train_10, X_test_10, y_train_10, y_test_10 = train_test_split( X_10, y_10, test_size=0.33, random_state=43,stratify = y_10)\n",
    "\n",
    "X_15 = train_df15.drop(['TARGET'],axis=1)\n",
    "\n",
    "y_15 = train_df15['TARGET']\n",
    "\n",
    "X_train_15, X_test_15, y_train_15, y_test_15 = train_test_split( X_15, y_15, test_size=0.33, random_state=44,stratify = y_15)"
   ]
  },
  {
   "cell_type": "code",
   "execution_count": 15,
   "metadata": {},
   "outputs": [
    {
     "name": "stdout",
     "output_type": "stream",
     "text": [
      "0.698409871915\n"
     ]
    }
   ],
   "source": [
    "cat_15 = XGBClassifier(n_estimators=40,max_depth=3,scale_pos_weight=15)\n",
    "\n",
    "cat_15.fit(X_train_15, y_train_15)\n",
    "\n",
    "pred = cat_15.predict(X_test_15)\n",
    "print(roc_auc_score(y_test_15,pred))"
   ]
  },
  {
   "cell_type": "code",
   "execution_count": 38,
   "metadata": {},
   "outputs": [
    {
     "name": "stdout",
     "output_type": "stream",
     "text": [
      "0.759450171821\n"
     ]
    }
   ],
   "source": [
    "#10\n",
    "\n",
    "cat_10 = XGBClassifier(n_estimators=150,max_depth=5)\n",
    "\n",
    "cat_10.fit(X_train_10, y_train_10)\n",
    "\n",
    "pred = cat_10.predict(X_test_10)\n",
    "print(roc_auc_score(y_test_10,pred))"
   ]
  },
  {
   "cell_type": "code",
   "execution_count": 39,
   "metadata": {},
   "outputs": [
    {
     "name": "stdout",
     "output_type": "stream",
     "text": [
      "0.767484545533\n",
      "0.759450171821\n",
      "0.744385352461\n"
     ]
    }
   ],
   "source": [
    "#5\n",
    "from xgboost import XGBClassifier\n",
    "\n",
    "cat_5 = XGBClassifier(n_estimators=100,max_depth=2,scale_pos_weight=10)\n",
    "\n",
    "cat_5.fit(X_train_5, y_train_5)\n",
    "\n",
    "pred = cat_5.predict(X_test_5)\n",
    "print(roc_auc_score(y_test_5,pred))\n",
    "\n",
    "\n",
    "#10\n",
    "\n",
    "cat_10 = XGBClassifier(n_estimators=150,max_depth=5)\n",
    "\n",
    "cat_10.fit(X_train_10, y_train_10)\n",
    "\n",
    "pred = cat_10.predict(X_test_10)\n",
    "print(roc_auc_score(y_test_10,pred))\n",
    "\n",
    "\n",
    "#15\n",
    "\n",
    "cat_15 = XGBClassifier(n_estimators=100,max_depth=3,scale_pos_weight=10)\n",
    "\n",
    "cat_15.fit(X_train_15, y_train_15)\n",
    "\n",
    "pred = cat_15.predict(X_test_15)\n",
    "print(roc_auc_score(y_test_15,pred))\n"
   ]
  },
  {
   "cell_type": "code",
   "execution_count": 42,
   "metadata": {},
   "outputs": [
    {
     "name": "stdout",
     "output_type": "stream",
     "text": [
      "0.783020600375\n"
     ]
    }
   ],
   "source": [
    "#stacking test\n",
    "\n",
    "# stacking dataset\n",
    "\n",
    "cat_5_out =  cat_5.predict_proba(X_test_15)[:,1]\n",
    "cat_10_out = cat_10.predict_proba(X_test_15)[:,1]\n",
    "cat_15_out = cat_15.predict_proba(X_test_15)[:,1]\n",
    "pred = ((cat_5_out + cat_10_out + cat_15_out)/3 > 0.53).astype('int')\n",
    "print(roc_auc_score(y_test_15,pred))"
   ]
  },
  {
   "cell_type": "code",
   "execution_count": 41,
   "metadata": {},
   "outputs": [
    {
     "name": "stdout",
     "output_type": "stream",
     "text": [
      "0.4 0.770909471081\n",
      "0.405 0.771461299296\n",
      "0.41 0.770977654139\n",
      "0.415 0.771705849197\n",
      "0.42 0.773844979\n",
      "0.425 0.774419534901\n",
      "0.43 0.77453317333\n",
      "0.435 0.773190421644\n",
      "0.44 0.775329551446\n",
      "0.445 0.776234113348\n",
      "0.45 0.775949562719\n",
      "0.455 0.777536864307\n",
      "0.46 0.777758686522\n",
      "0.465 0.779698721795\n",
      "0.47 0.779237804324\n",
      "0.475 0.781001472754\n",
      "0.48 0.782082401498\n",
      "0.485 0.783163330242\n",
      "0.49 0.783032418771\n",
      "0.495 0.7829015073\n",
      "0.5 0.780016909398\n",
      "0.505 0.780745104456\n",
      "0.51 0.781473299515\n",
      "0.515 0.7808360152\n",
      "0.52 0.781740577101\n",
      "0.525 0.781080565101\n",
      "0.53 0.783020600375\n",
      "0.535 0.779805996473\n",
      "0.54 0.77954417353\n",
      "0.545 0.776858670158\n",
      "0.55 0.776221385843\n",
      "0.555 0.777501409117\n",
      "0.56 0.776886852488\n",
      "0.565 0.775743195331\n",
      "0.57 0.773740431644\n",
      "0.575 0.773632247859\n",
      "0.58 0.774912271132\n",
      "0.585 0.774781359661\n",
      "0.59 0.775708649248\n",
      "0.595 0.774564992091\n"
     ]
    }
   ],
   "source": [
    "import numpy as np\n",
    "for i in np.arange(0.4,0.6,0.005):\n",
    "    pred = ((cat_5_out + cat_10_out + cat_15_out)/3 > i).astype('int')\n",
    "    print(i,roc_auc_score(y_test_15,pred))"
   ]
  },
  {
   "cell_type": "code",
   "execution_count": 43,
   "metadata": {
    "collapsed": true
   },
   "outputs": [],
   "source": [
    "ind = test_df['index']\n",
    "test = test_df.drop(['index'],axis=1)"
   ]
  },
  {
   "cell_type": "code",
   "execution_count": 44,
   "metadata": {
    "collapsed": true
   },
   "outputs": [],
   "source": [
    "cat_5_out =  cat_5.predict_proba(test)[:,1]\n",
    "cat_10_out = cat_10.predict_proba(test)[:,1]\n",
    "cat_15_out = cat_15.predict_proba(test)[:,1]\n",
    "\n",
    "y_out = ((cat_5_out + cat_10_out + cat_15_out)/3 > 0.53).astype('int')\n",
    "dfdict={}\n",
    "\n",
    "dfdict[\"index\"]=ind\n",
    "dfdict[\"TARGET\"]=y_out\n",
    "\n",
    "df=pd.DataFrame(dfdict)\n",
    "df.to_csv(\"solution.csv\",index=False,columns=[\"index\",\"TARGET\"])"
   ]
  },
  {
   "cell_type": "code",
   "execution_count": null,
   "metadata": {
    "collapsed": true
   },
   "outputs": [],
   "source": [
    "'''0.76307 lb current best'''"
   ]
  },
  {
   "cell_type": "code",
   "execution_count": null,
   "metadata": {
    "collapsed": true
   },
   "outputs": [],
   "source": [
    "'''d 0.75784 lb this stack'''"
   ]
  },
  {
   "cell_type": "code",
   "execution_count": null,
   "metadata": {
    "collapsed": true
   },
   "outputs": [],
   "source": [
    "'''17630*16 positive pts, xgb 50est 2 depth pos_wt 16 0.76682 val'''"
   ]
  },
  {
   "cell_type": "code",
   "execution_count": null,
   "metadata": {
    "collapsed": true
   },
   "outputs": [],
   "source": [
    "'''17630 positive points, xgb 100est 3depth pos_wt 10 0.779427868719'''"
   ]
  },
  {
   "cell_type": "code",
   "execution_count": null,
   "metadata": {
    "collapsed": true
   },
   "outputs": [],
   "source": [
    "'''100-0.768 max depth 2'''"
   ]
  },
  {
   "cell_type": "code",
   "execution_count": 78,
   "metadata": {
    "collapsed": true
   },
   "outputs": [],
   "source": [
    "y_out = xgb.predict(test)\n",
    "\n",
    "dfdict={}\n",
    "\n",
    "dfdict[\"index\"]=ind\n",
    "dfdict[\"TARGET\"]=y_out\n",
    "\n",
    "df=pd.DataFrame(dfdict)\n",
    "df.to_csv(\"solution.csv\",index=False,columns=[\"index\",\"TARGET\"])"
   ]
  },
  {
   "cell_type": "code",
   "execution_count": 24,
   "metadata": {},
   "outputs": [
    {
     "name": "stdout",
     "output_type": "stream",
     "text": [
      "Index(['col_0', 'col_1', 'col_2', 'col_3', 'col_4', 'col_5', 'col_6', 'col_7',\n",
      "       'col_8', 'col_9',\n",
      "       ...\n",
      "       'col_359', 'col_360', 'col_361', 'col_362', 'col_363', 'col_364',\n",
      "       'col_365', 'col_366', 'col_367', 'col_368'],\n",
      "      dtype='object', length=369)\n"
     ]
    }
   ],
   "source": [
    "print(X_train.columns)"
   ]
  },
  {
   "cell_type": "code",
   "execution_count": 23,
   "metadata": {},
   "outputs": [
    {
     "name": "stdout",
     "output_type": "stream",
     "text": [
      "[ 0.01030928  0.16494845  0.00687285  0.02061856  0.00687285  0.          0.\n",
      "  0.          0.          0.          0.00687285  0.0137457   0.00687285\n",
      "  0.02061856  0.00687285  0.          0.          0.02749141  0.          0.\n",
      "  0.          0.          0.          0.          0.          0.          0.\n",
      "  0.          0.          0.          0.          0.          0.          0.\n",
      "  0.          0.          0.          0.          0.          0.          0.\n",
      "  0.          0.          0.          0.          0.          0.          0.\n",
      "  0.          0.          0.          0.          0.          0.          0.\n",
      "  0.          0.          0.          0.          0.          0.          0.\n",
      "  0.          0.          0.          0.          0.          0.          0.\n",
      "  0.          0.          0.          0.          0.          0.          0.\n",
      "  0.          0.          0.          0.          0.          0.          0.\n",
      "  0.          0.          0.          0.          0.          0.          0.\n",
      "  0.          0.          0.          0.          0.          0.          0.\n",
      "  0.          0.          0.          0.          0.          0.          0.\n",
      "  0.          0.          0.          0.          0.          0.          0.\n",
      "  0.          0.          0.          0.          0.          0.          0.\n",
      "  0.          0.          0.          0.          0.          0.00687285\n",
      "  0.          0.          0.02061856  0.          0.00687285  0.          0.\n",
      "  0.          0.          0.          0.          0.          0.          0.\n",
      "  0.          0.          0.          0.          0.          0.          0.\n",
      "  0.          0.          0.          0.00343643  0.01030928  0.          0.\n",
      "  0.          0.          0.          0.          0.          0.02061856\n",
      "  0.          0.          0.          0.          0.          0.\n",
      "  0.01030928  0.          0.01030928  0.02749141  0.          0.00343643\n",
      "  0.          0.          0.          0.          0.          0.          0.\n",
      "  0.00687285  0.          0.          0.          0.          0.12371134\n",
      "  0.          0.          0.          0.          0.0137457   0.          0.\n",
      "  0.01030928  0.          0.          0.          0.          0.          0.\n",
      "  0.          0.          0.          0.          0.          0.          0.\n",
      "  0.          0.          0.          0.          0.          0.          0.\n",
      "  0.          0.          0.          0.          0.          0.          0.\n",
      "  0.          0.          0.          0.          0.          0.          0.\n",
      "  0.          0.          0.          0.          0.          0.          0.\n",
      "  0.          0.          0.          0.          0.          0.          0.\n",
      "  0.          0.00687285  0.01030928  0.          0.          0.          0.\n",
      "  0.          0.          0.          0.          0.          0.          0.\n",
      "  0.          0.          0.          0.          0.          0.          0.\n",
      "  0.          0.          0.          0.          0.          0.          0.\n",
      "  0.          0.          0.          0.          0.          0.          0.\n",
      "  0.02061856  0.0137457   0.02405498  0.02749141  0.          0.0137457\n",
      "  0.02061856  0.          0.          0.          0.          0.          0.\n",
      "  0.          0.          0.00687285  0.          0.          0.          0.\n",
      "  0.          0.          0.          0.          0.          0.          0.\n",
      "  0.          0.          0.          0.          0.          0.          0.\n",
      "  0.          0.          0.          0.          0.          0.          0.\n",
      "  0.          0.          0.          0.          0.          0.          0.\n",
      "  0.          0.01030928  0.          0.01030928  0.00343643  0.\n",
      "  0.02749141  0.0790378   0.00343643  0.04467354  0.          0.\n",
      "  0.00687285  0.          0.01030928  0.          0.          0.          0.\n",
      "  0.          0.          0.          0.          0.          0.          0.\n",
      "  0.          0.          0.          0.          0.          0.          0.\n",
      "  0.          0.          0.          0.          0.          0.          0.\n",
      "  0.          0.          0.          0.          0.          0.          0.0927835 ]\n"
     ]
    }
   ],
   "source": [
    "print(xgb.feature_importances_)"
   ]
  },
  {
   "cell_type": "code",
   "execution_count": 26,
   "metadata": {
    "collapsed": true
   },
   "outputs": [],
   "source": [
    "def get_non_zero_importance(cols,xgb):\n",
    "    \n",
    "    non_zero = []\n",
    "    for i,val in enumerate(xgb.feature_importances_):\n",
    "        if(val>0.00001):\n",
    "            non_zero.append(cols[i])\n",
    "    return non_zero        \n",
    "    \n",
    "    "
   ]
  },
  {
   "cell_type": "code",
   "execution_count": 27,
   "metadata": {
    "collapsed": true
   },
   "outputs": [],
   "source": [
    "non_zero = get_non_zero_importance(X_train.columns,xgb)"
   ]
  },
  {
   "cell_type": "code",
   "execution_count": 31,
   "metadata": {
    "collapsed": true
   },
   "outputs": [],
   "source": [
    "non_zero.append('TARGET')"
   ]
  },
  {
   "cell_type": "code",
   "execution_count": null,
   "metadata": {
    "collapsed": true
   },
   "outputs": [],
   "source": []
  }
 ],
 "metadata": {
  "kernelspec": {
   "display_name": "Python 3",
   "language": "python",
   "name": "python3"
  },
  "language_info": {
   "codemirror_mode": {
    "name": "ipython",
    "version": 3
   },
   "file_extension": ".py",
   "mimetype": "text/x-python",
   "name": "python",
   "nbconvert_exporter": "python",
   "pygments_lexer": "ipython3",
   "version": "3.6.3"
  }
 },
 "nbformat": 4,
 "nbformat_minor": 2
}
