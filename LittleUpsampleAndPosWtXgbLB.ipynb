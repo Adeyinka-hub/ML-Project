{
 "cells": [
  {
   "cell_type": "code",
   "execution_count": 48,
   "metadata": {
    "collapsed": true
   },
   "outputs": [],
   "source": [
    "import pandas as pd\n",
    "from sklearn.model_selection import train_test_split\n",
    "from sklearn.metrics import roc_auc_score"
   ]
  },
  {
   "cell_type": "code",
   "execution_count": 49,
   "metadata": {
    "collapsed": true
   },
   "outputs": [],
   "source": [
    "train_df_original = pd.read_csv('TRAIN_FINAL.csv')\n",
    "test_df = pd.read_csv('Test_v1.csv')"
   ]
  },
  {
   "cell_type": "code",
   "execution_count": 50,
   "metadata": {
    "collapsed": true
   },
   "outputs": [],
   "source": [
    "positive_dataset = train_df_original[train_df_original['TARGET']==0]"
   ]
  },
  {
   "cell_type": "code",
   "execution_count": 51,
   "metadata": {
    "collapsed": true
   },
   "outputs": [],
   "source": [
    "negative_dataset = train_df_original[train_df_original['TARGET']==1]"
   ]
  },
  {
   "cell_type": "code",
   "execution_count": 93,
   "metadata": {
    "collapsed": true
   },
   "outputs": [],
   "source": [
    "sample_positive = positive_dataset.sample(n=1763*10,random_state=42)"
   ]
  },
  {
   "cell_type": "code",
   "execution_count": 94,
   "metadata": {
    "collapsed": true
   },
   "outputs": [],
   "source": [
    "train_df = pd.concat([sample_positive,negative_dataset])"
   ]
  },
  {
   "cell_type": "code",
   "execution_count": 95,
   "metadata": {},
   "outputs": [
    {
     "name": "stdout",
     "output_type": "stream",
     "text": [
      "<class 'pandas.core.frame.DataFrame'>\n",
      "Int64Index: 19393 entries, 41644 to 45606\n",
      "Columns: 370 entries, col_0 to TARGET\n",
      "dtypes: float64(111), int64(259)\n",
      "memory usage: 54.9 MB\n"
     ]
    }
   ],
   "source": [
    "train_df.info()"
   ]
  },
  {
   "cell_type": "code",
   "execution_count": 96,
   "metadata": {
    "collapsed": true
   },
   "outputs": [],
   "source": [
    "train_df = train_df.sample(frac = 1,random_state=42)"
   ]
  },
  {
   "cell_type": "code",
   "execution_count": 32,
   "metadata": {
    "collapsed": true
   },
   "outputs": [],
   "source": [
    "train_df1 = train_df[non_zero]"
   ]
  },
  {
   "cell_type": "code",
   "execution_count": 97,
   "metadata": {
    "collapsed": true
   },
   "outputs": [],
   "source": [
    "X = train_df.drop(['TARGET'],axis=1)\n",
    "\n",
    "y = train_df['TARGET']\n",
    "\n",
    "X_train, X_test, y_train, y_test = train_test_split( X, y, test_size=0.33, random_state=42,stratify = y)"
   ]
  },
  {
   "cell_type": "code",
   "execution_count": 41,
   "metadata": {},
   "outputs": [
    {
     "name": "stdout",
     "output_type": "stream",
     "text": [
      "[100]\tvalid_0's auc: 0.830874\n",
      "[200]\tvalid_0's auc: 0.828176\n",
      "[300]\tvalid_0's auc: 0.824905\n",
      "[400]\tvalid_0's auc: 0.820848\n",
      "[500]\tvalid_0's auc: 0.817815\n",
      "[600]\tvalid_0's auc: 0.813503\n",
      "[700]\tvalid_0's auc: 0.809724\n",
      "[800]\tvalid_0's auc: 0.805818\n",
      "[900]\tvalid_0's auc: 0.80299\n",
      "[1000]\tvalid_0's auc: 0.799967\n",
      "[1100]\tvalid_0's auc: 0.796306\n",
      "[1200]\tvalid_0's auc: 0.795081\n",
      "[1300]\tvalid_0's auc: 0.793085\n",
      "[1400]\tvalid_0's auc: 0.791045\n",
      "[1500]\tvalid_0's auc: 0.789665\n",
      "[1600]\tvalid_0's auc: 0.788703\n",
      "[1700]\tvalid_0's auc: 0.786102\n",
      "[1800]\tvalid_0's auc: 0.785364\n",
      "[1900]\tvalid_0's auc: 0.785119\n",
      "[2000]\tvalid_0's auc: 0.784218\n"
     ]
    }
   ],
   "source": [
    "import lightgbm as lgb \n",
    "\n",
    "lgb_params = {\"objective\" : \"binary\", \"metric\" : ['auc'],\n",
    "              \"num_leaves\" : 8, \"learning_rate\" : 0.05, \n",
    "              \"is_unbalance\": True,\n",
    "              \"bagging_fraction\" : 0.5, \"feature_fraction\" : 0.8, \"bagging_frequency\" : 9,\n",
    "               }\n",
    "    \n",
    "lgb_train = lgb.Dataset(X_train, label=y_train)\n",
    "lgb_val = lgb.Dataset(X_test, label=y_test)\n",
    "model = lgb.train(lgb_params, lgb_train, 2000, valid_sets=[lgb_val], verbose_eval=100)"
   ]
  },
  {
   "cell_type": "code",
   "execution_count": null,
   "metadata": {
    "collapsed": true
   },
   "outputs": [],
   "source": []
  },
  {
   "cell_type": "code",
   "execution_count": 9,
   "metadata": {
    "collapsed": true
   },
   "outputs": [],
   "source": [
    "ind = test_df['index']\n",
    "test = test_df.drop(['index'],axis=1)"
   ]
  },
  {
   "cell_type": "code",
   "execution_count": 34,
   "metadata": {
    "collapsed": true
   },
   "outputs": [],
   "source": [
    "pred_val = model.predict(test,num_iteration=model.best_iteration)\n",
    "\n",
    "y_out = [1 if i > 0.5 else 0 for i in pred_val]"
   ]
  },
  {
   "cell_type": "code",
   "execution_count": 35,
   "metadata": {
    "collapsed": true
   },
   "outputs": [],
   "source": [
    "dfdict={}\n",
    "\n",
    "dfdict[\"index\"]=ind\n",
    "dfdict[\"TARGET\"]=y_out\n",
    "\n",
    "df=pd.DataFrame(dfdict)\n",
    "df.to_csv(\"solution.csv\",index=False,columns=[\"index\",\"TARGET\"])"
   ]
  },
  {
   "cell_type": "code",
   "execution_count": 36,
   "metadata": {},
   "outputs": [
    {
     "name": "stdout",
     "output_type": "stream",
     "text": [
      "0.729381443299\n"
     ]
    }
   ],
   "source": [
    "from sklearn.ensemble import RandomForestClassifier\n",
    "\n",
    "rf = RandomForestClassifier(n_estimators=200)\n",
    "rf.fit(X_train,y_train)\n",
    "\n",
    "pred = rf.predict(X_test)\n",
    "print(roc_auc_score(y_test,pred))"
   ]
  },
  {
   "cell_type": "code",
   "execution_count": 36,
   "metadata": {
    "collapsed": true
   },
   "outputs": [],
   "source": [
    "y_out = rf.predict(test)"
   ]
  },
  {
   "cell_type": "code",
   "execution_count": 37,
   "metadata": {
    "collapsed": true
   },
   "outputs": [],
   "source": [
    "dfdict={}\n",
    "\n",
    "dfdict[\"index\"]=ind\n",
    "dfdict[\"TARGET\"]=y_out\n",
    "\n",
    "df=pd.DataFrame(dfdict)\n",
    "df.to_csv(\"solution.csv\",index=False,columns=[\"index\",\"TARGET\"])"
   ]
  },
  {
   "cell_type": "code",
   "execution_count": 114,
   "metadata": {},
   "outputs": [
    {
     "name": "stdout",
     "output_type": "stream",
     "text": [
      "0.779427868719\n"
     ]
    }
   ],
   "source": [
    "from xgboost import XGBClassifier\n",
    "\n",
    "xgb = XGBClassifier(n_estimators=100,max_depth=3,scale_pos_weight=10)\n",
    "xgb.fit(X_train,y_train)\n",
    "\n",
    "pred = xgb.predict(X_test)\n",
    "print(roc_auc_score(y_test,pred))"
   ]
  },
  {
   "cell_type": "code",
   "execution_count": null,
   "metadata": {
    "collapsed": true
   },
   "outputs": [],
   "source": [
    "'''17630 positive points, xgb 100est 3depth pos_wt 10 0.779427868719'''"
   ]
  },
  {
   "cell_type": "code",
   "execution_count": null,
   "metadata": {
    "collapsed": true
   },
   "outputs": [],
   "source": [
    "'''100-0.768 max depth 2'''"
   ]
  },
  {
   "cell_type": "code",
   "execution_count": 115,
   "metadata": {
    "collapsed": true
   },
   "outputs": [],
   "source": [
    "y_out = xgb.predict(test)"
   ]
  },
  {
   "cell_type": "code",
   "execution_count": 116,
   "metadata": {
    "collapsed": true
   },
   "outputs": [],
   "source": [
    "dfdict={}\n",
    "\n",
    "dfdict[\"index\"]=ind\n",
    "dfdict[\"TARGET\"]=y_out\n",
    "\n",
    "df=pd.DataFrame(dfdict)\n",
    "df.to_csv(\"solution.csv\",index=False,columns=[\"index\",\"TARGET\"])"
   ]
  },
  {
   "cell_type": "code",
   "execution_count": 24,
   "metadata": {},
   "outputs": [
    {
     "name": "stdout",
     "output_type": "stream",
     "text": [
      "Index(['col_0', 'col_1', 'col_2', 'col_3', 'col_4', 'col_5', 'col_6', 'col_7',\n",
      "       'col_8', 'col_9',\n",
      "       ...\n",
      "       'col_359', 'col_360', 'col_361', 'col_362', 'col_363', 'col_364',\n",
      "       'col_365', 'col_366', 'col_367', 'col_368'],\n",
      "      dtype='object', length=369)\n"
     ]
    }
   ],
   "source": [
    "print(X_train.columns)"
   ]
  },
  {
   "cell_type": "code",
   "execution_count": 23,
   "metadata": {},
   "outputs": [
    {
     "name": "stdout",
     "output_type": "stream",
     "text": [
      "[ 0.01030928  0.16494845  0.00687285  0.02061856  0.00687285  0.          0.\n",
      "  0.          0.          0.          0.00687285  0.0137457   0.00687285\n",
      "  0.02061856  0.00687285  0.          0.          0.02749141  0.          0.\n",
      "  0.          0.          0.          0.          0.          0.          0.\n",
      "  0.          0.          0.          0.          0.          0.          0.\n",
      "  0.          0.          0.          0.          0.          0.          0.\n",
      "  0.          0.          0.          0.          0.          0.          0.\n",
      "  0.          0.          0.          0.          0.          0.          0.\n",
      "  0.          0.          0.          0.          0.          0.          0.\n",
      "  0.          0.          0.          0.          0.          0.          0.\n",
      "  0.          0.          0.          0.          0.          0.          0.\n",
      "  0.          0.          0.          0.          0.          0.          0.\n",
      "  0.          0.          0.          0.          0.          0.          0.\n",
      "  0.          0.          0.          0.          0.          0.          0.\n",
      "  0.          0.          0.          0.          0.          0.          0.\n",
      "  0.          0.          0.          0.          0.          0.          0.\n",
      "  0.          0.          0.          0.          0.          0.          0.\n",
      "  0.          0.          0.          0.          0.          0.00687285\n",
      "  0.          0.          0.02061856  0.          0.00687285  0.          0.\n",
      "  0.          0.          0.          0.          0.          0.          0.\n",
      "  0.          0.          0.          0.          0.          0.          0.\n",
      "  0.          0.          0.          0.00343643  0.01030928  0.          0.\n",
      "  0.          0.          0.          0.          0.          0.02061856\n",
      "  0.          0.          0.          0.          0.          0.\n",
      "  0.01030928  0.          0.01030928  0.02749141  0.          0.00343643\n",
      "  0.          0.          0.          0.          0.          0.          0.\n",
      "  0.00687285  0.          0.          0.          0.          0.12371134\n",
      "  0.          0.          0.          0.          0.0137457   0.          0.\n",
      "  0.01030928  0.          0.          0.          0.          0.          0.\n",
      "  0.          0.          0.          0.          0.          0.          0.\n",
      "  0.          0.          0.          0.          0.          0.          0.\n",
      "  0.          0.          0.          0.          0.          0.          0.\n",
      "  0.          0.          0.          0.          0.          0.          0.\n",
      "  0.          0.          0.          0.          0.          0.          0.\n",
      "  0.          0.          0.          0.          0.          0.          0.\n",
      "  0.          0.00687285  0.01030928  0.          0.          0.          0.\n",
      "  0.          0.          0.          0.          0.          0.          0.\n",
      "  0.          0.          0.          0.          0.          0.          0.\n",
      "  0.          0.          0.          0.          0.          0.          0.\n",
      "  0.          0.          0.          0.          0.          0.          0.\n",
      "  0.02061856  0.0137457   0.02405498  0.02749141  0.          0.0137457\n",
      "  0.02061856  0.          0.          0.          0.          0.          0.\n",
      "  0.          0.          0.00687285  0.          0.          0.          0.\n",
      "  0.          0.          0.          0.          0.          0.          0.\n",
      "  0.          0.          0.          0.          0.          0.          0.\n",
      "  0.          0.          0.          0.          0.          0.          0.\n",
      "  0.          0.          0.          0.          0.          0.          0.\n",
      "  0.          0.01030928  0.          0.01030928  0.00343643  0.\n",
      "  0.02749141  0.0790378   0.00343643  0.04467354  0.          0.\n",
      "  0.00687285  0.          0.01030928  0.          0.          0.          0.\n",
      "  0.          0.          0.          0.          0.          0.          0.\n",
      "  0.          0.          0.          0.          0.          0.          0.\n",
      "  0.          0.          0.          0.          0.          0.          0.\n",
      "  0.          0.          0.          0.          0.          0.          0.0927835 ]\n"
     ]
    }
   ],
   "source": [
    "print(xgb.feature_importances_)"
   ]
  },
  {
   "cell_type": "code",
   "execution_count": 26,
   "metadata": {
    "collapsed": true
   },
   "outputs": [],
   "source": [
    "def get_non_zero_importance(cols,xgb):\n",
    "    \n",
    "    non_zero = []\n",
    "    for i,val in enumerate(xgb.feature_importances_):\n",
    "        if(val>0.00001):\n",
    "            non_zero.append(cols[i])\n",
    "    return non_zero        \n",
    "    \n",
    "    "
   ]
  },
  {
   "cell_type": "code",
   "execution_count": 27,
   "metadata": {
    "collapsed": true
   },
   "outputs": [],
   "source": [
    "non_zero = get_non_zero_importance(X_train.columns,xgb)"
   ]
  },
  {
   "cell_type": "code",
   "execution_count": 31,
   "metadata": {
    "collapsed": true
   },
   "outputs": [],
   "source": [
    "non_zero.append('TARGET')"
   ]
  },
  {
   "cell_type": "code",
   "execution_count": null,
   "metadata": {
    "collapsed": true
   },
   "outputs": [],
   "source": []
  }
 ],
 "metadata": {
  "kernelspec": {
   "display_name": "Python 3",
   "language": "python",
   "name": "python3"
  },
  "language_info": {
   "codemirror_mode": {
    "name": "ipython",
    "version": 3
   },
   "file_extension": ".py",
   "mimetype": "text/x-python",
   "name": "python",
   "nbconvert_exporter": "python",
   "pygments_lexer": "ipython3",
   "version": "3.6.3"
  }
 },
 "nbformat": 4,
 "nbformat_minor": 2
}
