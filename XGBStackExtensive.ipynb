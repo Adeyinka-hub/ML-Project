{
 "cells": [
  {
   "cell_type": "code",
   "execution_count": 1,
   "metadata": {
    "collapsed": true
   },
   "outputs": [],
   "source": [
    "import pandas as pd\n",
    "from sklearn.model_selection import train_test_split\n",
    "from sklearn.metrics import roc_auc_score\n",
    "from sklearn.decomposition import PCA"
   ]
  },
  {
   "cell_type": "code",
   "execution_count": 2,
   "metadata": {
    "collapsed": true
   },
   "outputs": [],
   "source": [
    "train_df_original = pd.read_csv('TRAIN_FINAL.csv')\n",
    "test_df = pd.read_csv('Test_v1.csv')"
   ]
  },
  {
   "cell_type": "code",
   "execution_count": 3,
   "metadata": {
    "collapsed": true
   },
   "outputs": [],
   "source": [
    "positive_dataset = train_df_original[train_df_original['TARGET']==0]"
   ]
  },
  {
   "cell_type": "code",
   "execution_count": 4,
   "metadata": {
    "scrolled": true
   },
   "outputs": [
    {
     "ename": "NameError",
     "evalue": "name 'negative_dataset' is not defined",
     "output_type": "error",
     "traceback": [
      "\u001b[0;31m---------------------------------------------------------------------------\u001b[0m",
      "\u001b[0;31mNameError\u001b[0m                                 Traceback (most recent call last)",
      "\u001b[0;32m<ipython-input-4-0080a83fc3b7>\u001b[0m in \u001b[0;36m<module>\u001b[0;34m()\u001b[0m\n\u001b[0;32m----> 1\u001b[0;31m \u001b[0mlen\u001b[0m\u001b[0;34m(\u001b[0m\u001b[0mnegative_dataset\u001b[0m\u001b[0;34m)\u001b[0m\u001b[0;34m\u001b[0m\u001b[0m\n\u001b[0m",
      "\u001b[0;31mNameError\u001b[0m: name 'negative_dataset' is not defined"
     ]
    }
   ],
   "source": [
    "len(negative_dataset)"
   ]
  },
  {
   "cell_type": "code",
   "execution_count": 44,
   "metadata": {
    "collapsed": true
   },
   "outputs": [],
   "source": [
    "positive_dataset = train_df_original[train_df_original['TARGET']==0]\n",
    "\n",
    "negative_dataset = train_df_original[train_df_original['TARGET']==1]\n",
    "\n",
    "sample_positive5 = positive_dataset[:1763*2] #2\n",
    "train_df5 = pd.concat([sample_positive5,negative_dataset])\n",
    "train_df5 = train_df5.sample(frac = 1,random_state=42)\n",
    "\n",
    "sample_positive10 =positive_dataset[17630:19393] #1\n",
    "train_df10 = pd.concat([sample_positive10,negative_dataset])\n",
    "train_df10 = train_df10.sample(frac = 1,random_state=42)\n",
    "\n",
    "sample_positive15 = positive_dataset[19393:36713] #10\n",
    "train_df15 = pd.concat([sample_positive15,negative_dataset])\n",
    "train_df15 = train_df15.sample(frac = 1,random_state=42)\n",
    "\n",
    "sample_positive20 = positive_dataset[36713:42002] #3\n",
    "train_df20 = pd.concat([sample_positive20,negative_dataset])\n",
    "train_df20 = train_df20.sample(frac = 1,random_state=42)\n",
    "\n",
    "sample_positive25 = positive_dataset[42002:] #4\n",
    "train_df25 = pd.concat([sample_positive25,negative_dataset])\n",
    "train_df25 = train_df25.sample(frac = 1,random_state=42)"
   ]
  },
  {
   "cell_type": "code",
   "execution_count": 45,
   "metadata": {},
   "outputs": [
    {
     "data": {
      "text/plain": [
       "1763"
      ]
     },
     "execution_count": 45,
     "metadata": {},
     "output_type": "execute_result"
    }
   ],
   "source": [
    "len(negative_dataset)"
   ]
  },
  {
   "cell_type": "code",
   "execution_count": 46,
   "metadata": {},
   "outputs": [],
   "source": [
    "X_5 = train_df5.drop(['TARGET'],axis=1)\n",
    "\n",
    "y_5 = train_df5['TARGET']\n",
    "\n",
    "X_train_5, X_test_5, y_train_5, y_test_5 = train_test_split( X_5, y_5, test_size=0.33, random_state=42,stratify = y_5)\n",
    "\n",
    "\n",
    "X_10 = train_df10.drop(['TARGET'],axis=1)\n",
    "\n",
    "y_10 = train_df10['TARGET']\n",
    "\n",
    "X_train_10, X_test_10, y_train_10, y_test_10 = train_test_split( X_10, y_10, test_size=0.33, random_state=43,stratify = y_10)\n",
    "\n",
    "X_15 = train_df15.drop(['TARGET'],axis=1)\n",
    "\n",
    "y_15 = train_df15['TARGET']\n",
    "\n",
    "X_train_15, X_test_15, y_train_15, y_test_15 = train_test_split( X_15, y_15, test_size=0.33, random_state=44,stratify = y_15)\n",
    "\n",
    "X_20 = train_df20.drop(['TARGET'],axis=1)\n",
    "\n",
    "y_20 = train_df20['TARGET']\n",
    "\n",
    "X_train_20, X_test_20, y_train_20, y_test_20 = train_test_split( X_20, y_20, test_size=0.33, random_state=42,stratify = y_20)\n",
    "\n",
    "\n",
    "X_25 = train_df25.drop(['TARGET'],axis=1)\n",
    "\n",
    "y_25 = train_df25['TARGET']\n",
    "\n",
    "X_train_25, X_test_25, y_train_25, y_test_25 = train_test_split( X_25, y_25, test_size=0.33, random_state=42,stratify = y_25)"
   ]
  },
  {
   "cell_type": "code",
   "execution_count": 47,
   "metadata": {},
   "outputs": [
    {
     "data": {
      "text/plain": [
       "2328"
      ]
     },
     "execution_count": 47,
     "metadata": {},
     "output_type": "execute_result"
    }
   ],
   "source": [
    "len(X_test_20)"
   ]
  },
  {
   "cell_type": "code",
   "execution_count": 86,
   "metadata": {},
   "outputs": [
    {
     "name": "stdout",
     "output_type": "stream",
     "text": [
      "0.752219593262\n"
     ]
    }
   ],
   "source": [
    "cat_25 = XGBClassifier(n_estimators=25,max_depth=2,scale_pos_weight=1.2)\n",
    "\n",
    "cat_25.fit(X_train_25, y_train_25)\n",
    "\n",
    "pred = cat_25.predict(X_test_25)\n",
    "print(roc_auc_score(y_test_25,pred))"
   ]
  },
  {
   "cell_type": "code",
   "execution_count": 96,
   "metadata": {},
   "outputs": [
    {
     "name": "stdout",
     "output_type": "stream",
     "text": [
      "0.753436426117\n"
     ]
    }
   ],
   "source": [
    "#20 \n",
    "\n",
    "cat_20 = XGBClassifier(n_estimators=125,max_depth=3,scale_pos_weight=3)\n",
    "\n",
    "cat_20.fit(X_train_20, y_train_20)\n",
    "\n",
    "pred = cat_20.predict(X_test_20)\n",
    "print(roc_auc_score(y_test_20,pred))\n"
   ]
  },
  {
   "cell_type": "code",
   "execution_count": 97,
   "metadata": {},
   "outputs": [
    {
     "name": "stdout",
     "output_type": "stream",
     "text": [
      "0.763745704467\n",
      "0.759450171821\n",
      "0.76297256871\n",
      "0.75372279496\n",
      "0.752219593262\n"
     ]
    }
   ],
   "source": [
    "#5\n",
    "from xgboost import XGBClassifier\n",
    "\n",
    "cat_5 = XGBClassifier(n_estimators=100,max_depth=2,scale_pos_weight=2)\n",
    "\n",
    "cat_5.fit(X_train_5, y_train_5)\n",
    "\n",
    "pred = cat_5.predict(X_test_5)\n",
    "print(roc_auc_score(y_test_5,pred))\n",
    "\n",
    "\n",
    "#10\n",
    "\n",
    "cat_10 = XGBClassifier(n_estimators=150,max_depth=5)\n",
    "\n",
    "cat_10.fit(X_train_10, y_train_10)\n",
    "\n",
    "pred = cat_10.predict(X_test_10)\n",
    "print(roc_auc_score(y_test_10,pred))\n",
    "\n",
    "\n",
    "#15\n",
    "\n",
    "cat_15 = XGBClassifier(n_estimators=100,max_depth=2,scale_pos_weight=10)\n",
    "\n",
    "cat_15.fit(X_train_15, y_train_15)\n",
    "\n",
    "pred = cat_15.predict(X_test_15)\n",
    "print(roc_auc_score(y_test_15,pred))\n",
    "\n",
    "#20 \n",
    "\n",
    "cat_20 = XGBClassifier(n_estimators=125,max_depth=3,scale_pos_weight=3)\n",
    "\n",
    "cat_20.fit(X_train_20, y_train_20)\n",
    "\n",
    "pred = cat_20.predict(X_test_20)\n",
    "print(roc_auc_score(y_test_20,pred))\n",
    "\n",
    "\n",
    "#25\n",
    "cat_25 = XGBClassifier(n_estimators=25,max_depth=2,scale_pos_weight=1.2)\n",
    "\n",
    "cat_25.fit(X_train_25, y_train_25)\n",
    "\n",
    "pred = cat_25.predict(X_test_25)\n",
    "print(roc_auc_score(y_test_25,pred))"
   ]
  },
  {
   "cell_type": "code",
   "execution_count": 109,
   "metadata": {},
   "outputs": [
    {
     "name": "stdout",
     "output_type": "stream",
     "text": [
      "0.784668766037\n"
     ]
    }
   ],
   "source": [
    "#stacking test\n",
    "\n",
    "# stacking dataset\n",
    "\n",
    "cat_5_out =  cat_5.predict_proba(X_test_15)[:,1]\n",
    "cat_10_out = cat_10.predict_proba(X_test_15)[:,1]\n",
    "cat_15_out = cat_15.predict_proba(X_test_15)[:,1]\n",
    "cat_20_out = cat_20.predict_proba(X_test_15)[:,1]\n",
    "cat_25_out = cat_25.predict_proba(X_test_15)[:,1]\n",
    "pred = ((cat_5_out*0.4 + cat_10_out*0.2 + cat_15_out*0.1 + cat_20_out*0.15 + cat_25_out*0.15) > 0.475).astype('int')\n",
    "print(roc_auc_score(y_test_15,pred))"
   ]
  },
  {
   "cell_type": "code",
   "execution_count": 108,
   "metadata": {},
   "outputs": [
    {
     "name": "stdout",
     "output_type": "stream",
     "text": [
      "0.778745199464 0.4\n",
      "0.77851404029 0.405\n",
      "0.778720249904 0.41\n",
      "0.780032356272 0.415\n",
      "0.780151092129 0.42\n",
      "0.778726562444 0.425\n",
      "0.780754089924 0.43\n",
      "0.780975930589 0.435\n",
      "0.780323033674 0.44\n",
      "0.780020031791 0.445\n",
      "0.779717029908 0.45\n",
      "0.780607398536 0.455\n",
      "0.781338450698 0.46\n",
      "0.781488448654 0.465\n",
      "0.783237923812 0.47\n",
      "0.784668766037 0.475\n",
      "0.78289434132 0.48\n",
      "0.783466077015 0.485\n",
      "0.780498281787 0.49\n",
      "0.779757911115 0.495\n",
      "0.779717330505 0.5\n",
      "0.778642695851 0.505\n",
      "0.780057907027 0.51\n",
      "0.781123223171 0.515\n",
      "0.778402218166 0.52\n",
      "0.777574373736 0.525\n",
      "0.775115790005 0.53\n",
      "0.776427896373 0.535\n",
      "0.775862473217 0.54\n",
      "0.775456366526 0.545\n",
      "0.775750049899 0.55\n",
      "0.77406309894 0.555\n",
      "0.772201200465 0.56\n",
      "0.770251828232 0.565\n",
      "0.770195616573 0.57\n",
      "0.76780887555 0.575\n",
      "0.767577716376 0.58\n",
      "0.76822129478 0.585\n",
      "0.76781518809 0.59\n",
      "0.765865815857 0.595\n"
     ]
    }
   ],
   "source": [
    "import numpy as np\n",
    "for i in np.arange(0.4,0.6,0.005):\n",
    "    pred = ((cat_5_out*0.4 + cat_10_out*0.2 + cat_15_out*0.1 + cat_20_out*0.15 + cat_25_out*0.15) > i).astype('int')\n",
    "    print(roc_auc_score(y_test_15,pred),i)\n",
    "\n",
    "\n"
   ]
  },
  {
   "cell_type": "code",
   "execution_count": 98,
   "metadata": {},
   "outputs": [
    {
     "name": "stdout",
     "output_type": "stream",
     "text": [
      "0.777992804908\n"
     ]
    }
   ],
   "source": [
    "#stacking test\n",
    "\n",
    "# stacking dataset\n",
    "\n",
    "cat_5_out =  cat_5.predict_proba(X_test_15)[:,1]\n",
    "cat_10_out = cat_10.predict_proba(X_test_15)[:,1]\n",
    "cat_15_out = cat_15.predict_proba(X_test_15)[:,1]\n",
    "cat_20_out = cat_20.predict_proba(X_test_15)[:,1]\n",
    "cat_25_out = cat_25.predict_proba(X_test_15)[:,1]\n",
    "pred = ((cat_5_out + cat_10_out + cat_15_out + cat_20_out + cat_25_out)/5 > 0.495).astype('int')\n",
    "print(roc_auc_score(y_test_15,pred))"
   ]
  },
  {
   "cell_type": "code",
   "execution_count": 99,
   "metadata": {},
   "outputs": [
    {
     "name": "stdout",
     "output_type": "stream",
     "text": [
      "0.4 0.776836407841\n",
      "0.405 0.777639302711\n",
      "0.41 0.776549037007\n",
      "0.415 0.775561876111\n",
      "0.42 0.775943033241\n",
      "0.425 0.778217350946\n",
      "0.43 0.77679282126\n",
      "0.435 0.776052450588\n",
      "0.44 0.775749448705\n",
      "0.445 0.77637739606\n",
      "0.45 0.777355238446\n",
      "0.455 0.778682975863\n",
      "0.46 0.779588975541\n",
      "0.465 0.779970132672\n",
      "0.47 0.779667130789\n",
      "0.475 0.780326340242\n",
      "0.48 0.781144866162\n",
      "0.485 0.780332652781\n",
      "0.49 0.780188967365\n",
      "0.495 0.777992804908\n",
      "0.5 0.775446747419\n",
      "0.505 0.775652957034\n",
      "0.51 0.777752327223\n",
      "0.515 0.778220958111\n",
      "0.52 0.779286274255\n",
      "0.525 0.777090111798\n",
      "0.53 0.778417849216\n",
      "0.535 0.777343214561\n",
      "0.54 0.775640632553\n",
      "0.545 0.772060521019\n",
      "0.55 0.771670045378\n",
      "0.555 0.771351412446\n",
      "0.56 0.772329254832\n",
      "0.565 0.771763831675\n",
      "0.57 0.771795093774\n",
      "0.575 0.773544568932\n",
      "0.58 0.773997568771\n",
      "0.585 0.770170667013\n",
      "0.59 0.768308768538\n",
      "0.595 0.768849242135\n"
     ]
    }
   ],
   "source": [
    "import numpy as np\n",
    "for i in np.arange(0.4,0.6,0.005):\n",
    "    pred = ((cat_5_out + cat_10_out + cat_15_out+cat_20_out +cat_25_out)/5 > i).astype('int')\n",
    "    print(i,roc_auc_score(y_test_15,pred))"
   ]
  },
  {
   "cell_type": "code",
   "execution_count": 111,
   "metadata": {
    "collapsed": true
   },
   "outputs": [],
   "source": [
    "ind = test_df['index']\n",
    "test = test_df.drop(['index'],axis=1)"
   ]
  },
  {
   "cell_type": "code",
   "execution_count": 112,
   "metadata": {},
   "outputs": [],
   "source": [
    "cat_5_out =  cat_5.predict_proba(test)[:,1]\n",
    "cat_10_out = cat_10.predict_proba(test)[:,1]\n",
    "cat_15_out = cat_15.predict_proba(test)[:,1]\n",
    "cat_20_out = cat_20.predict_proba(test)[:,1]\n",
    "cat_25_out = cat_25.predict_proba(test)[:,1]\n",
    "0.475\n",
    "#y_out = ((cat_5_out + cat_10_out + cat_15_out)/3 > 0.53).astype('int')\n",
    "y_out = ((cat_5_out*0.4 + cat_10_out*0.2 + cat_15_out*0.1 + cat_20_out*0.15 + cat_25_out*0.15) > 0.475).astype('int')\n",
    "dfdict={}\n",
    "\n",
    "dfdict[\"index\"]=ind\n",
    "dfdict[\"TARGET\"]=y_out\n",
    "\n",
    "df=pd.DataFrame(dfdict)\n",
    "df.to_csv(\"solution.csv\",index=False,columns=[\"index\",\"TARGET\"])"
   ]
  },
  {
   "cell_type": "code",
   "execution_count": null,
   "metadata": {
    "collapsed": true
   },
   "outputs": [],
   "source": [
    "'''0.76307 lb current best'''"
   ]
  },
  {
   "cell_type": "code",
   "execution_count": null,
   "metadata": {
    "collapsed": true
   },
   "outputs": [],
   "source": [
    "'''d 0.75784 lb this stack'''"
   ]
  },
  {
   "cell_type": "code",
   "execution_count": null,
   "metadata": {
    "collapsed": true
   },
   "outputs": [],
   "source": [
    "'''17630*16 positive pts, xgb 50est 2 depth pos_wt 16 0.76682 val'''"
   ]
  },
  {
   "cell_type": "code",
   "execution_count": null,
   "metadata": {
    "collapsed": true
   },
   "outputs": [],
   "source": [
    "'''17630 positive points, xgb 100est 3depth pos_wt 10 0.779427868719'''"
   ]
  },
  {
   "cell_type": "code",
   "execution_count": null,
   "metadata": {
    "collapsed": true
   },
   "outputs": [],
   "source": [
    "'''100-0.768 max depth 2'''"
   ]
  },
  {
   "cell_type": "code",
   "execution_count": 78,
   "metadata": {
    "collapsed": true
   },
   "outputs": [],
   "source": [
    "y_out = xgb.predict(test)\n",
    "\n",
    "dfdict={}\n",
    "\n",
    "dfdict[\"index\"]=ind\n",
    "dfdict[\"TARGET\"]=y_out\n",
    "\n",
    "df=pd.DataFrame(dfdict)\n",
    "df.to_csv(\"solution.csv\",index=False,columns=[\"index\",\"TARGET\"])"
   ]
  },
  {
   "cell_type": "code",
   "execution_count": 24,
   "metadata": {},
   "outputs": [
    {
     "name": "stdout",
     "output_type": "stream",
     "text": [
      "Index(['col_0', 'col_1', 'col_2', 'col_3', 'col_4', 'col_5', 'col_6', 'col_7',\n",
      "       'col_8', 'col_9',\n",
      "       ...\n",
      "       'col_359', 'col_360', 'col_361', 'col_362', 'col_363', 'col_364',\n",
      "       'col_365', 'col_366', 'col_367', 'col_368'],\n",
      "      dtype='object', length=369)\n"
     ]
    }
   ],
   "source": [
    "print(X_train.columns)"
   ]
  },
  {
   "cell_type": "code",
   "execution_count": 47,
   "metadata": {},
   "outputs": [
    {
     "name": "stdout",
     "output_type": "stream",
     "text": [
      "[ 0.00196773  0.11255411  0.00590319  0.00550964  0.00983865  0.          0.\n",
      "  0.          0.          0.          0.00196773  0.00196773  0.00393546\n",
      "  0.01613538  0.00787092  0.00039355  0.00314837  0.00275482  0.00039355\n",
      "  0.          0.          0.          0.          0.00078709  0.00078709\n",
      "  0.          0.          0.00865801  0.          0.00039355  0.\n",
      "  0.00039355  0.          0.          0.          0.          0.          0.\n",
      "  0.          0.          0.          0.          0.          0.          0.\n",
      "  0.          0.          0.          0.          0.          0.\n",
      "  0.00039355  0.00078709  0.          0.          0.          0.          0.\n",
      "  0.          0.          0.          0.          0.          0.00078709\n",
      "  0.          0.          0.          0.          0.          0.          0.\n",
      "  0.          0.          0.00196773  0.          0.          0.01023219\n",
      "  0.          0.          0.00078709  0.          0.          0.          0.\n",
      "  0.          0.          0.          0.          0.00826446  0.          0.\n",
      "  0.          0.          0.          0.          0.          0.          0.\n",
      "  0.          0.          0.          0.          0.          0.          0.\n",
      "  0.          0.          0.          0.          0.          0.          0.\n",
      "  0.          0.          0.          0.          0.          0.          0.\n",
      "  0.          0.          0.          0.          0.00629673  0.00275482\n",
      "  0.00314837  0.00708383  0.00078709  0.          0.00157418  0.00196773\n",
      "  0.          0.          0.          0.          0.          0.          0.004329\n",
      "  0.00118064  0.          0.          0.          0.          0.          0.\n",
      "  0.          0.          0.00078709  0.00747737  0.00472255  0.          0.\n",
      "  0.          0.          0.          0.          0.          0.00196773\n",
      "  0.00039355  0.          0.          0.          0.          0.\n",
      "  0.02518693  0.          0.00157418  0.00039355  0.          0.          0.\n",
      "  0.00039355  0.          0.          0.          0.          0.\n",
      "  0.00078709  0.00157418  0.          0.          0.          0.05037387\n",
      "  0.00039355  0.          0.          0.          0.01928375  0.          0.\n",
      "  0.01849665  0.          0.          0.01180638  0.          0.          0.\n",
      "  0.          0.          0.          0.          0.          0.          0.\n",
      "  0.          0.          0.          0.          0.          0.          0.\n",
      "  0.          0.          0.          0.          0.          0.          0.\n",
      "  0.          0.          0.          0.          0.          0.          0.\n",
      "  0.          0.          0.          0.          0.          0.          0.\n",
      "  0.          0.          0.          0.          0.          0.          0.\n",
      "  0.          0.00826446  0.02085793  0.          0.          0.          0.\n",
      "  0.          0.          0.          0.          0.          0.          0.\n",
      "  0.          0.00039355  0.00078709  0.00314837  0.          0.          0.\n",
      "  0.          0.          0.          0.          0.          0.          0.\n",
      "  0.          0.          0.          0.          0.          0.\n",
      "  0.00118064  0.00629673  0.02046438  0.0094451   0.02990948  0.\n",
      "  0.01141283  0.00590319  0.          0.          0.          0.          0.\n",
      "  0.          0.          0.          0.01495474  0.          0.00236128\n",
      "  0.00236128  0.          0.          0.          0.          0.00078709\n",
      "  0.00354191  0.00393546  0.00472255  0.          0.00039355  0.          0.\n",
      "  0.          0.          0.          0.          0.          0.00078709\n",
      "  0.00314837  0.          0.          0.          0.          0.          0.\n",
      "  0.          0.          0.          0.          0.          0.02203857\n",
      "  0.04447068  0.01574183  0.02361275  0.          0.03227076  0.07241244\n",
      "  0.0377804   0.03187721  0.00354191  0.          0.00196773  0.\n",
      "  0.00314837  0.00039355  0.00196773  0.00314837  0.00078709  0.          0.\n",
      "  0.          0.          0.          0.          0.          0.          0.\n",
      "  0.          0.          0.          0.          0.          0.          0.\n",
      "  0.          0.          0.          0.          0.          0.          0.\n",
      "  0.          0.          0.          0.          0.16646989]\n"
     ]
    }
   ],
   "source": [
    "print(cat_10.feature_importances_)"
   ]
  },
  {
   "cell_type": "code",
   "execution_count": 26,
   "metadata": {
    "collapsed": true
   },
   "outputs": [],
   "source": [
    "def get_non_zero_importance(cols,xgb):\n",
    "    \n",
    "    non_zero = []\n",
    "    for i,val in enumerate(xgb.feature_importances_):\n",
    "        if(val>0.00001):\n",
    "            non_zero.append(cols[i])\n",
    "    return non_zero        \n",
    "    \n",
    "    "
   ]
  },
  {
   "cell_type": "code",
   "execution_count": 27,
   "metadata": {
    "collapsed": true
   },
   "outputs": [],
   "source": [
    "non_zero = get_non_zero_importance(X_train.columns,xgb)"
   ]
  },
  {
   "cell_type": "code",
   "execution_count": 31,
   "metadata": {
    "collapsed": true
   },
   "outputs": [],
   "source": [
    "non_zero.append('TARGET')"
   ]
  },
  {
   "cell_type": "code",
   "execution_count": null,
   "metadata": {
    "collapsed": true
   },
   "outputs": [],
   "source": []
  }
 ],
 "metadata": {
  "kernelspec": {
   "display_name": "Python 3",
   "language": "python",
   "name": "python3"
  },
  "language_info": {
   "codemirror_mode": {
    "name": "ipython",
    "version": 3
   },
   "file_extension": ".py",
   "mimetype": "text/x-python",
   "name": "python",
   "nbconvert_exporter": "python",
   "pygments_lexer": "ipython3",
   "version": "3.6.3"
  }
 },
 "nbformat": 4,
 "nbformat_minor": 2
}
